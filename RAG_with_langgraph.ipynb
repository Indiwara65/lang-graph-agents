{
 "cells": [
  {
   "cell_type": "markdown",
   "id": "1a24aecb",
   "metadata": {},
   "source": [
    "# Different Types of RAG"
   ]
  },
  {
   "cell_type": "markdown",
   "id": "c5cfde71",
   "metadata": {},
   "source": [
    "### CRAG - Corective RAG"
   ]
  },
  {
   "cell_type": "code",
   "execution_count": null,
   "id": "1bef291a",
   "metadata": {},
   "outputs": [],
   "source": []
  },
  {
   "cell_type": "markdown",
   "id": "1afd1ab3",
   "metadata": {},
   "source": [
    "### ARAG - Agentic RAG "
   ]
  },
  {
   "cell_type": "code",
   "execution_count": null,
   "id": "f2488345",
   "metadata": {},
   "outputs": [],
   "source": []
  },
  {
   "cell_type": "markdown",
   "id": "2932a481",
   "metadata": {},
   "source": [
    "### Self RAG"
   ]
  },
  {
   "cell_type": "code",
   "execution_count": null,
   "id": "abab51c3",
   "metadata": {},
   "outputs": [],
   "source": []
  }
 ],
 "metadata": {
  "kernelspec": {
   "display_name": "venv",
   "language": "python",
   "name": "python3"
  },
  "language_info": {
   "name": "python",
   "version": "3.11.3"
  }
 },
 "nbformat": 4,
 "nbformat_minor": 5
}
