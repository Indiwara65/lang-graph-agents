{
 "cells": [
  {
   "cell_type": "markdown",
   "id": "9c1183ee",
   "metadata": {},
   "source": [
    "# ReAct Agent          \n",
    "\n",
    "#### DAG (Direct Acyclic Graph)         \n",
    "#### Cyclic Graph"
   ]
  },
  {
   "cell_type": "markdown",
   "id": "019f5c8a",
   "metadata": {},
   "source": [
    "### ReAct Agent"
   ]
  },
  {
   "cell_type": "code",
   "execution_count": 5,
   "id": "ad19258e",
   "metadata": {},
   "outputs": [],
   "source": [
    "import os\n",
    "from dotenv import load_dotenv\n",
    "load_dotenv\n",
    "OPENAI_API_KEY = os.getenv('OPENAI_API_KEY')\n",
    "LANGSMITH_API_KEY = os.getenv('LANGSMITH_API_KEY')\n",
    "\n",
    "os.environ[\"LANGSMITH_TRACING\"] = \"true\"\n",
    "os.environ[\"LANGSMITH_ENDPOINT\"] = \"https://api.smith.langchain.com\"\n",
    "os.environ[\"LANGSMITH_API_KEY\"] = LANGSMITH_API_KEY\n",
    "os.environ[\"LANGSMITH_PROJECT\"] = \"pr-respectful-recapitulation-78\""
   ]
  },
  {
   "cell_type": "code",
   "execution_count": 6,
   "id": "97c78b4a",
   "metadata": {},
   "outputs": [],
   "source": [
    "from langchain_openai.chat_models import ChatOpenAI\n",
    "\n",
    "llm = ChatOpenAI(name=\"o3-mini-2025-01-31\",\n",
    "                 api_key=OPENAI_API_KEY)"
   ]
  },
  {
   "cell_type": "code",
   "execution_count": 7,
   "id": "652c5615",
   "metadata": {},
   "outputs": [],
   "source": [
    "from langgraph.graph import START, END, StateGraph\n",
    "from langgraph.graph.message import add_messages\n",
    "from langgraph.prebuilt import ToolNode\n",
    "\n",
    "from langchain_core.messages import BaseMessage, SystemMessage, HumanMessage\n",
    "from langchain_core.tools import tool\n",
    "\n",
    "from typing import TypedDict, List, Dict, Annotated\n",
    "\n",
    "from IPython.display import Image, display"
   ]
  },
  {
   "cell_type": "code",
   "execution_count": null,
   "id": "5666c82c",
   "metadata": {},
   "outputs": [],
   "source": [
    "class AgentState(TypedDict):\n",
    "    query : str\n",
    "    messages : Annotated[BaseMessage, add_messages]"
   ]
  },
  {
   "cell_type": "code",
   "execution_count": 9,
   "id": "2bbd75e9",
   "metadata": {},
   "outputs": [],
   "source": [
    "@tool\n",
    "def add(a:float, b:float)->float:\n",
    "    \"\"\"This is a addition function that can be used to add two floting point numbers\"\"\"\n",
    "    return a + b\n",
    "\n",
    "@tool\n",
    "def sub(a:float, b:float)->float:\n",
    "    \"\"\"This is a subtraction function that can be used to subtract two floting point numbers\"\"\"\n",
    "    return a - b\n",
    "\n",
    "@tool\n",
    "def mult(a:float, b:float)->float:\n",
    "    \"\"\"This is a multiplication function that can be used to multiply two floting point numbers\"\"\"\n",
    "    return a * b\n",
    "\n",
    "@tool\n",
    "def divide(a:float, b:float)->float:\n",
    "    \"\"\"This is a division function that can be used to divide two floting point numbers\"\"\"\n",
    "    return a / b\n",
    "\n",
    "tools = [add, sub, mult, divide]"
   ]
  },
  {
   "cell_type": "code",
   "execution_count": 17,
   "id": "985013cd",
   "metadata": {},
   "outputs": [
    {
     "data": {
      "text/plain": [
       "(AIMessage(content='', additional_kwargs={'tool_calls': [{'id': 'call_Q3dDy63ALOfizLZkzQpKS57y', 'function': {'arguments': '{\"a\":10,\"b\":4}', 'name': 'divide'}, 'type': 'function'}], 'refusal': None}, response_metadata={'token_usage': {'completion_tokens': 17, 'prompt_tokens': 171, 'total_tokens': 188, 'completion_tokens_details': {'accepted_prediction_tokens': 0, 'audio_tokens': 0, 'reasoning_tokens': 0, 'rejected_prediction_tokens': 0}, 'prompt_tokens_details': {'audio_tokens': 0, 'cached_tokens': 0}}, 'model_name': 'gpt-3.5-turbo-0125', 'system_fingerprint': None, 'id': 'chatcmpl-BtBSIdqameU1wDndTvccOv2yIvM1i', 'service_tier': 'default', 'finish_reason': 'tool_calls', 'logprobs': None}, id='run--c0f8b280-07fe-455d-a259-aced85bafa53-0', tool_calls=[{'name': 'divide', 'args': {'a': 10, 'b': 4}, 'id': 'call_Q3dDy63ALOfizLZkzQpKS57y', 'type': 'tool_call'}], usage_metadata={'input_tokens': 171, 'output_tokens': 17, 'total_tokens': 188, 'input_token_details': {'audio': 0, 'cache_read': 0}, 'output_token_details': {'audio': 0, 'reasoning': 0}}),\n",
       " [{'name': 'divide',\n",
       "   'args': {'a': 10, 'b': 4},\n",
       "   'id': 'call_Q3dDy63ALOfizLZkzQpKS57y',\n",
       "   'type': 'tool_call'}],\n",
       " {'tool_calls': [{'id': 'call_Q3dDy63ALOfizLZkzQpKS57y',\n",
       "    'function': {'arguments': '{\"a\":10,\"b\":4}', 'name': 'divide'},\n",
       "    'type': 'function'}],\n",
       "  'refusal': None})"
      ]
     },
     "execution_count": 17,
     "metadata": {},
     "output_type": "execute_result"
    }
   ],
   "source": [
    "llm_tools = llm.bind_tools(tools)\n",
    "\n",
    "response = llm_tools.invoke(\"Can u divide 10 by 4\")\n",
    "response, response.tool_calls, response.additional_kwargs"
   ]
  },
  {
   "cell_type": "code",
   "execution_count": 11,
   "id": "e574d219",
   "metadata": {},
   "outputs": [
    {
     "data": {
      "text/plain": [
       "(AIMessage(content='Hi there! How can I assist you today?', additional_kwargs={'refusal': None}, response_metadata={'token_usage': {'completion_tokens': 11, 'prompt_tokens': 165, 'total_tokens': 176, 'completion_tokens_details': {'accepted_prediction_tokens': 0, 'audio_tokens': 0, 'reasoning_tokens': 0, 'rejected_prediction_tokens': 0}, 'prompt_tokens_details': {'audio_tokens': 0, 'cached_tokens': 0}}, 'model_name': 'gpt-3.5-turbo-0125', 'system_fingerprint': None, 'id': 'chatcmpl-BtBEyIGUJ9HR6ALqTyVWp3xaIAvEN', 'service_tier': 'default', 'finish_reason': 'stop', 'logprobs': None}, id='run--aeeb3f45-96d9-480c-9cd5-fe52a69e8cc7-0', usage_metadata={'input_tokens': 165, 'output_tokens': 11, 'total_tokens': 176, 'input_token_details': {'audio': 0, 'cache_read': 0}, 'output_token_details': {'audio': 0, 'reasoning': 0}}),\n",
       " [])"
      ]
     },
     "execution_count": 11,
     "metadata": {},
     "output_type": "execute_result"
    }
   ],
   "source": [
    "response = llm_tools.invoke(\"Hello?\")\n",
    "response, response.tool_calls"
   ]
  },
  {
   "cell_type": "code",
   "execution_count": 12,
   "id": "e0edb3da",
   "metadata": {},
   "outputs": [],
   "source": [
    "def setup_node(state:AgentState)->AgentState:\n",
    "    state['messages'] = [ \n",
    "        SystemMessage(content=\"You are agent who helps people to do arithmatic operations with the help of tools provided.\"),\n",
    "        HumanMessage(content=state['query'])\n",
    "    ]\n",
    "    return state\n",
    "\n",
    "def agent_node(state:AgentState)->AgentState:\n",
    "    response = llm_tools.invoke(state['messages'])\n",
    "    state['messages'] = response\n",
    "    return state\n",
    "\n",
    "tool_node = ToolNode(tools)\n",
    "\n",
    "    \n",
    "def conditional_tool_agent_edge(state:AgentState)->str:\n",
    "    last_messages = state['messages'][-1]\n",
    "    if last_messages.tool_calls:\n",
    "        return 'tool call'\n",
    "    else:\n",
    "        return 'exit'\n",
    "    "
   ]
  },
  {
   "cell_type": "code",
   "execution_count": 13,
   "id": "2dd4ab1c",
   "metadata": {},
   "outputs": [],
   "source": [
    "graph = StateGraph(state_schema=AgentState)\n",
    "\n",
    "\n",
    "#nodes\n",
    "graph.add_node('setup', setup_node)\n",
    "graph.add_node('agent', agent_node)\n",
    "graph.add_node('tools', tool_node)\n",
    "\n",
    "#edges\n",
    "graph.add_edge(START, 'setup')\n",
    "graph.add_edge('setup', 'agent')\n",
    "graph.add_edge('tools', 'agent')\n",
    "graph.add_conditional_edges(source='agent',\n",
    "                            path=conditional_tool_agent_edge,\n",
    "                            path_map={'tool call':'tools',\n",
    "                                      'exit' : END})\n",
    "\n",
    "app = graph.compile()\n",
    "\n"
   ]
  },
  {
   "cell_type": "code",
   "execution_count": 14,
   "id": "919005ec",
   "metadata": {},
   "outputs": [
    {
     "data": {
      "image/png": "[encoded data removed]",
      "text/plain": [
       "<IPython.core.display.Image object>"
      ]
     },
     "metadata": {},
     "output_type": "display_data"
    }
   ],
   "source": [
    "display(Image(app.get_graph().draw_mermaid_png()))"
   ]
  },
  {
   "cell_type": "code",
   "execution_count": 16,
   "id": "64399c21",
   "metadata": {},
   "outputs": [
    {
     "name": "stdout",
     "output_type": "stream",
     "text": [
      "()\n",
      "================================\u001b[1m Human Message \u001b[0m=================================\n",
      "\n",
      "If George has 3 apples and if I take 2 how many apples does George have?\n",
      "==================================\u001b[1m Ai Message \u001b[0m==================================\n",
      "Tool Calls:\n",
      "  sub (call_4IOwxFnNKG0qXaXzXT90Tuue)\n",
      " Call ID: call_4IOwxFnNKG0qXaXzXT90Tuue\n",
      "  Args:\n",
      "    a: 3\n",
      "    b: 2\n",
      "=================================\u001b[1m Tool Message \u001b[0m=================================\n",
      "Name: sub\n",
      "\n",
      "1.0\n",
      "==================================\u001b[1m Ai Message \u001b[0m==================================\n",
      "\n",
      "If you take 2 apples from George, he will have 1 apple left.\n"
     ]
    }
   ],
   "source": [
    "response = app.stream({'query': \"If George has 3 apples and if I take 2 how many apples does George have?\", 'messages':[]}, stream_mode='values')\n",
    "for res in response:\n",
    "    message = res['messages'][-1] if res['messages'] else ()\n",
    "    if isinstance(message, tuple):\n",
    "        print(message)\n",
    "    else:\n",
    "        message.pretty_print()"
   ]
  },
  {
   "cell_type": "markdown",
   "id": "b023b54e",
   "metadata": {},
   "source": [
    "### Return Direct \n",
    "* End directly       \n",
    "* Return direct can be used output a tools output without going back to the agent."
   ]
  },
  {
   "cell_type": "code",
   "execution_count": null,
   "id": "34847b97",
   "metadata": {},
   "outputs": [],
   "source": []
  },
  {
   "cell_type": "markdown",
   "id": "8d91633e",
   "metadata": {},
   "source": [
    "### Dynamic Return Direct        \n",
    "* End directly conditionally."
   ]
  },
  {
   "cell_type": "code",
   "execution_count": null,
   "id": "5fa2405e",
   "metadata": {},
   "outputs": [],
   "source": []
  },
  {
   "cell_type": "markdown",
   "id": "6c319d39",
   "metadata": {},
   "source": [
    "### Specific Output Format        \n",
    "* Output a specific foramt rather than the state format.         \n",
    "* There are two methods - \n",
    "    1. Define a function that transforms the agent state to the desired and attach it as a tool.\n",
    "    2. Use a different node and a LLM with structured output and convert the agent state to desired output."
   ]
  },
  {
   "cell_type": "markdown",
   "id": "2fd5f963",
   "metadata": {},
   "source": [
    "##### Option 1 - Bind Output as Tool          \n",
    "- When a tool that requires a specific output format agtent llm formats the to the strucutured output.          \n",
    "- Then this structure can be used to respond to the user using a different node."
   ]
  },
  {
   "cell_type": "code",
   "execution_count": 1,
   "id": "f2020f74",
   "metadata": {},
   "outputs": [],
   "source": [
    "import os\n",
    "from dotenv import load_dotenv\n",
    "load_dotenv\n",
    "OPENAI_API_KEY = os.getenv('OPENAI_API_KEY')\n",
    "LANGSMITH_API_KEY = os.getenv('LANGSMITH_API_KEY')\n",
    "\n",
    "os.environ[\"LANGSMITH_TRACING\"] = \"true\"\n",
    "os.environ[\"LANGSMITH_ENDPOINT\"] = \"https://api.smith.langchain.com\"\n",
    "os.environ[\"LANGSMITH_API_KEY\"] = LANGSMITH_API_KEY\n",
    "os.environ[\"LANGSMITH_PROJECT\"] = \"pr-respectful-recapitulation-78\""
   ]
  },
  {
   "cell_type": "code",
   "execution_count": 55,
   "id": "69fae293",
   "metadata": {},
   "outputs": [],
   "source": [
    "from langchain_openai.chat_models import ChatOpenAI\n",
    "\n",
    "llm = ChatOpenAI(name=\"gpt-4o-mini-2024-07-18\",\n",
    "                 temperature= 0.0,\n",
    "                 api_key=OPENAI_API_KEY)"
   ]
  },
  {
   "cell_type": "code",
   "execution_count": 39,
   "id": "43b49029",
   "metadata": {},
   "outputs": [],
   "source": [
    "from langchain_core.messages import SystemMessage, HumanMessage, BaseMessage\n",
    "from langchain_core.tools import tool\n",
    "\n",
    "from langgraph.graph import StateGraph, START, END\n",
    "from langgraph.prebuilt import ToolNode\n",
    "from langgraph.graph.message import add_messages\n",
    "\n",
    "from typing import TypedDict, Dict, Annotated\n",
    "from pydantic import BaseModel, Field\n",
    "\n",
    "from IPython.display import Image, display"
   ]
  },
  {
   "cell_type": "code",
   "execution_count": 139,
   "id": "79473c0c",
   "metadata": {},
   "outputs": [],
   "source": [
    "class FinalResponse(BaseModel):\n",
    "    \"\"\"Respond to the user after all calculations.\"\"\"\n",
    "    steps : list[str] = Field(description=\"A list of steps describing each step clearly that was carried out to solve the problem.\")\n",
    "    answer : str = Field(description=\"Final answer to the querstion as a one line sentence.\")"
   ]
  },
  {
   "cell_type": "code",
   "execution_count": 140,
   "id": "27c59f77",
   "metadata": {},
   "outputs": [],
   "source": [
    "class AgentState(TypedDict):\n",
    "    query : str\n",
    "    messages : Annotated[BaseMessage, add_messages]\n",
    "    final_response : FinalResponse | None"
   ]
  },
  {
   "cell_type": "code",
   "execution_count": 141,
   "id": "d4f75855",
   "metadata": {},
   "outputs": [],
   "source": [
    "@tool\n",
    "def add(a:float, b:float)->float:\n",
    "    \"\"\"This is a addition function that can be used to add two floting point numbers\"\"\"\n",
    "    return a + b\n",
    "\n",
    "@tool\n",
    "def sub(a:float, b:float)->float:\n",
    "    \"\"\"This is a subtraction function that can be used to subtract two floting point numbers\"\"\"\n",
    "    return a - b\n",
    "\n",
    "@tool\n",
    "def mult(a:float, b:float)->float:\n",
    "    \"\"\"This is a multiplication function that can be used to multiply two floting point numbers\"\"\"\n",
    "    return a * b\n",
    "\n",
    "@tool\n",
    "def divide(a:float, b:float)->float:\n",
    "    \"\"\"This is a division function that can be used to divide two floting point numbers\"\"\"\n",
    "    return a / b\n",
    "\n",
    "#@tool\n",
    "#def respond(a:CalcDescription):\n",
    "#    \"\"\"This tool is used to format the final output describing all the steps taken to do the calculations\"\"\"\n",
    "#    return None\n",
    "\n",
    "tools = [add, sub, mult, divide, FinalResponse]"
   ]
  },
  {
   "cell_type": "code",
   "execution_count": 142,
   "id": "78df5ca6",
   "metadata": {},
   "outputs": [],
   "source": [
    "llm_tools = llm.bind_tools(tools)"
   ]
  },
  {
   "cell_type": "code",
   "execution_count": 143,
   "id": "e0ca7ba0",
   "metadata": {},
   "outputs": [],
   "source": [
    "query = \"James have 10 apples and 5 oranges, then George takes 2 apples and 1 orange how many apples and oranges does James have now?\"\n",
    "#response = llm_tools.invoke(\"James have 10 apples and 5 oranges, then George takes 2 apples and 1 orange how many apples and oranges does James have now?\")\n",
    "#response"
   ]
  },
  {
   "cell_type": "code",
   "execution_count": 146,
   "id": "33f04558",
   "metadata": {},
   "outputs": [],
   "source": [
    "def setup_node(state:AgentState)->AgentState:\n",
    "    system_prompt_str = \"\"\"\n",
    "- You are a helpful assistant who helps kids perform multi-stage calculations.\n",
    "- Break down complex problems into simple, easy-to-follow steps.\n",
    "- Always use the provided tools for calculations and to output the final output after calculations.\n",
    "    \"\"\"\n",
    "    state['messages'] = [SystemMessage(content=system_prompt_str),\n",
    "                         HumanMessage(content=f\"{state['query']}\")]\n",
    "    return state\n",
    "    \n",
    "def agent_node(state:AgentState)->AgentState:\n",
    "    response = llm_tools.invoke(state['messages'])\n",
    "    state['messages'] = [response]\n",
    "    return state\n",
    "\n",
    "def respond_node(state:AgentState)->AgentState:\n",
    "    last_message = state['messages'][-1]\n",
    "    #print(last_message)\n",
    "    last_tool_call = last_message.tool_calls[0]\n",
    "    final_response = FinalResponse(**last_tool_call['args'])\n",
    "    state['final_response'] = final_response\n",
    "    return state\n",
    "\n",
    "tool_node = ToolNode(tools)"
   ]
  },
  {
   "cell_type": "code",
   "execution_count": 147,
   "id": "96e716c9",
   "metadata": {},
   "outputs": [],
   "source": [
    "def route(state:AgentState)->str:\n",
    "    last_tool_call = state['messages'][-1].tool_calls[0]\n",
    "    tool_name = last_tool_call['name']\n",
    "    if tool_name=='FinalResponse':\n",
    "        return 'exit'\n",
    "    else:\n",
    "        return 'tool call'"
   ]
  },
  {
   "cell_type": "code",
   "execution_count": 148,
   "id": "7aade6c0",
   "metadata": {},
   "outputs": [
    {
     "data": {
      "image/png": "[encoded data removed]",
      "text/plain": [
       "<IPython.core.display.Image object>"
      ]
     },
     "metadata": {},
     "output_type": "display_data"
    }
   ],
   "source": [
    "workflow = StateGraph(state_schema=AgentState)\n",
    "\n",
    "#nodes\n",
    "workflow.add_node('setup', setup_node)\n",
    "workflow.add_node('agent', agent_node)\n",
    "workflow.add_node('tools', tool_node)\n",
    "workflow.add_node('respond',respond_node)\n",
    "\n",
    "#edges\n",
    "workflow.add_edge(START, 'setup')\n",
    "workflow.add_edge('setup', 'agent')\n",
    "workflow.add_edge('tools','agent')\n",
    "workflow.add_conditional_edges(source='agent',\n",
    "                               path=route,\n",
    "                               path_map={'tool call':'tools',\n",
    "                                         'exit' : 'respond'})\n",
    "workflow.add_edge('respond', END)\n",
    "\n",
    "graph = workflow.compile()\n",
    "\n",
    "display(Image(graph.get_graph().draw_mermaid_png()))"
   ]
  },
  {
   "cell_type": "code",
   "execution_count": 149,
   "id": "53b192ac",
   "metadata": {},
   "outputs": [
    {
     "name": "stdout",
     "output_type": "stream",
     "text": [
      "()\n",
      "================================\u001b[1m Human Message \u001b[0m=================================\n",
      "\n",
      "James have 10 apples and 5 oranges, then George takes 2 apples and 1 orange how many apples and oranges does James have now?\n",
      "==================================\u001b[1m Ai Message \u001b[0m==================================\n",
      "Tool Calls:\n",
      "  sub (call_IKVKtp221s61keeJku9LrxbB)\n",
      " Call ID: call_IKVKtp221s61keeJku9LrxbB\n",
      "  Args:\n",
      "    a: 10\n",
      "    b: 2\n",
      "  sub (call_KTVOG6Ab8bvl5PoHrpbt2sYr)\n",
      " Call ID: call_KTVOG6Ab8bvl5PoHrpbt2sYr\n",
      "  Args:\n",
      "    a: 5\n",
      "    b: 1\n",
      "=================================\u001b[1m Tool Message \u001b[0m=================================\n",
      "Name: sub\n",
      "\n",
      "4.0\n",
      "==================================\u001b[1m Ai Message \u001b[0m==================================\n",
      "Tool Calls:\n",
      "  FinalResponse (call_5T2KSYkuu8fk8FnPrvSgH0MS)\n",
      " Call ID: call_5T2KSYkuu8fk8FnPrvSgH0MS\n",
      "  Args:\n",
      "    steps: ['James had 10 apples and 5 oranges.', 'George took 2 apples and 1 orange from James.', 'Subtracting 2 apples from 10 apples, James now has 8 apples.', 'Subtracting 1 orange from 5 oranges, James now has 4 oranges.']\n",
      "    answer: James now has 8 apples and 4 oranges.\n",
      "==================================\u001b[1m Ai Message \u001b[0m==================================\n",
      "Tool Calls:\n",
      "  FinalResponse (call_5T2KSYkuu8fk8FnPrvSgH0MS)\n",
      " Call ID: call_5T2KSYkuu8fk8FnPrvSgH0MS\n",
      "  Args:\n",
      "    steps: ['James had 10 apples and 5 oranges.', 'George took 2 apples and 1 orange from James.', 'Subtracting 2 apples from 10 apples, James now has 8 apples.', 'Subtracting 1 orange from 5 oranges, James now has 4 oranges.']\n",
      "    answer: James now has 8 apples and 4 oranges.\n"
     ]
    }
   ],
   "source": [
    "response = graph.stream({'query': query, 'messages':[]}, stream_mode='values')\n",
    "for res in response:\n",
    "    message = res['messages'][-1] if res['messages'] else ()\n",
    "    if isinstance(message, tuple):\n",
    "        print(message)\n",
    "    else:\n",
    "        message.pretty_print()"
   ]
  },
  {
   "cell_type": "code",
   "execution_count": 150,
   "id": "ae2a4902",
   "metadata": {},
   "outputs": [],
   "source": [
    "response = graph.invoke({'query':query})"
   ]
  },
  {
   "cell_type": "code",
   "execution_count": 151,
   "id": "1079cf2c",
   "metadata": {},
   "outputs": [
    {
     "name": "stdout",
     "output_type": "stream",
     "text": [
      "Step 1 - \n",
      "James had 10 apples and 5 oranges.\n",
      "Step 2 - \n",
      "George took 2 apples and 1 orange from James.\n",
      "Step 3 - \n",
      "Subtracting 2 apples from 10 apples, James now has 8 apples.\n",
      "Step 4 - \n",
      "Subtracting 1 orange from 5 oranges, James now has 4 oranges.\n",
      "\n",
      "Answer : James now has 8 apples and 4 oranges.\n"
     ]
    }
   ],
   "source": [
    "for i, step in enumerate(response['final_response'].steps):\n",
    "    print(f\"Step {i+1} - \\n{step}\")\n",
    "print(f\"\\nAnswer : {response['final_response'].answer}\")"
   ]
  },
  {
   "cell_type": "markdown",
   "id": "987f5341",
   "metadata": {},
   "source": [
    "##### Option 2 - With structured Output LLM          \n",
    "- Respond node is added with a llm with a structured output attached to it."
   ]
  },
  {
   "cell_type": "code",
   "execution_count": 152,
   "id": "d8f1c26c",
   "metadata": {},
   "outputs": [],
   "source": [
    "import os\n",
    "from dotenv import load_dotenv\n",
    "load_dotenv\n",
    "OPENAI_API_KEY = os.getenv('OPENAI_API_KEY')\n",
    "LANGSMITH_API_KEY = os.getenv('LANGSMITH_API_KEY')\n",
    "\n",
    "os.environ[\"LANGSMITH_TRACING\"] = \"true\"\n",
    "os.environ[\"LANGSMITH_ENDPOINT\"] = \"https://api.smith.langchain.com\"\n",
    "os.environ[\"LANGSMITH_API_KEY\"] = LANGSMITH_API_KEY\n",
    "os.environ[\"LANGSMITH_PROJECT\"] = \"pr-respectful-recapitulation-78\""
   ]
  },
  {
   "cell_type": "code",
   "execution_count": 153,
   "id": "986eba30",
   "metadata": {},
   "outputs": [],
   "source": [
    "from langchain_core.messages import SystemMessage, HumanMessage, BaseMessage\n",
    "from langchain_core.tools import tool\n",
    "\n",
    "from langgraph.graph import StateGraph, START, END\n",
    "from langgraph.prebuilt import ToolNode\n",
    "from langgraph.graph.message import add_messages\n",
    "\n",
    "from typing import TypedDict, Dict, Annotated\n",
    "from pydantic import BaseModel, Field\n",
    "\n",
    "from IPython.display import Image, display"
   ]
  },
  {
   "cell_type": "code",
   "execution_count": 154,
   "id": "6f49ede8",
   "metadata": {},
   "outputs": [],
   "source": [
    "from langchain_openai.chat_models import ChatOpenAI\n",
    "\n",
    "llm = ChatOpenAI(name=\"gpt-4o-mini-2024-07-18\",\n",
    "                 temperature= 0.0,\n",
    "                 api_key=OPENAI_API_KEY)"
   ]
  },
  {
   "cell_type": "code",
   "execution_count": 155,
   "id": "0e0d9dfb",
   "metadata": {},
   "outputs": [],
   "source": [
    "class FinalResponse(BaseModel):\n",
    "    \"\"\"Respond to the user after all calculations.\"\"\"\n",
    "    steps : list[str] = Field(description=\"A list of steps describing each step clearly that was carried out to solve the problem.\")\n",
    "    answer : str = Field(description=\"Final answer to the querstion as a one line sentence.\")"
   ]
  },
  {
   "cell_type": "code",
   "execution_count": 158,
   "id": "6885d201",
   "metadata": {},
   "outputs": [],
   "source": [
    "class AgentState(TypedDict):\n",
    "    query : str\n",
    "    messages : Annotated[BaseMessage, add_messages]\n",
    "    final_response : FinalResponse"
   ]
  },
  {
   "cell_type": "code",
   "execution_count": 159,
   "id": "e06e233a",
   "metadata": {},
   "outputs": [],
   "source": [
    "@tool\n",
    "def add(a:float, b:float)->float:\n",
    "    \"\"\"This is a addition function that can be used to add two floting point numbers\"\"\"\n",
    "    return a + b\n",
    "\n",
    "@tool\n",
    "def sub(a:float, b:float)->float:\n",
    "    \"\"\"This is a subtraction function that can be used to subtract two floting point numbers\"\"\"\n",
    "    return a - b\n",
    "\n",
    "@tool\n",
    "def mult(a:float, b:float)->float:\n",
    "    \"\"\"This is a multiplication function that can be used to multiply two floting point numbers\"\"\"\n",
    "    return a * b\n",
    "\n",
    "@tool\n",
    "def divide(a:float, b:float)->float:\n",
    "    \"\"\"This is a division function that can be used to divide two floting point numbers\"\"\"\n",
    "    return a / b\n",
    "\n",
    "tools = [add, sub, mult, divide]"
   ]
  },
  {
   "cell_type": "code",
   "execution_count": 160,
   "id": "4cfd7dbc",
   "metadata": {},
   "outputs": [
    {
     "name": "stderr",
     "output_type": "stream",
     "text": [
      "d:\\lang-graph-agents\\venv\\Lib\\site-packages\\langchain_openai\\chat_models\\base.py:1857: UserWarning: Cannot use method='json_schema' with model gpt-3.5-turbo since it doesn't support OpenAI's Structured Output API. You can see supported models here: https://platform.openai.com/docs/guides/structured-outputs#supported-models. To fix this warning, set `method='function_calling'. Overriding to method='function_calling'.\n",
      "  warnings.warn(\n"
     ]
    }
   ],
   "source": [
    "llm_tools = llm.bind_tools(tools)\n",
    "\n",
    "llm_str_output = llm.with_structured_output(FinalResponse)"
   ]
  },
  {
   "cell_type": "code",
   "execution_count": 169,
   "id": "2a1f78e1",
   "metadata": {},
   "outputs": [],
   "source": [
    "def setup_node(state:AgentState)->AgentState:\n",
    "    system_prompt_str = \"\"\"\n",
    "- You are a helpful assistant who helps kids perform multi-stage calculations.\n",
    "- Break down complex problems into simple, easy-to-follow steps.\n",
    "- Always use the provided tools for calculations and to output the final output after calculations.\n",
    "    \"\"\"\n",
    "    state['messages'] = [SystemMessage(content=system_prompt_str),\n",
    "                         HumanMessage(content=f\"{state['query']}\")]\n",
    "    return state\n",
    "    \n",
    "def agent_node(state:AgentState)->AgentState:\n",
    "    response = llm_tools.invoke(state['messages'])\n",
    "    state['messages'] = [response]\n",
    "    return state\n",
    "\n",
    "def respond_node(state:AgentState)->AgentState:\n",
    "    system_prompt_str = \"\"\"\n",
    "- You are a helpful assistant who helps kids perform multi-stage calculations.\n",
    "\n",
    "- Below is a conversation between an agent, human and tools carrying out the calculation in steps.\n",
    "\n",
    "- Your job is to list the steps and provide the final answer.\n",
    "    \"\"\"\n",
    "    messages = [SystemMessage(content=system_prompt_str)] + state['messages'][1:]\n",
    "    response = llm_str_output.invoke(messages)\n",
    "    state['final_response'] = response\n",
    "    return state\n",
    "\n",
    "tool_node = ToolNode(tools)"
   ]
  },
  {
   "cell_type": "code",
   "execution_count": 170,
   "id": "2615d213",
   "metadata": {},
   "outputs": [],
   "source": [
    "def route(state:AgentState)->str:\n",
    "    last_tool_call = state['messages'][-1].tool_calls\n",
    "    if not last_tool_call:\n",
    "        return 'exit'\n",
    "    else:\n",
    "        return 'tool call'"
   ]
  },
  {
   "cell_type": "code",
   "execution_count": 171,
   "id": "2d763961",
   "metadata": {},
   "outputs": [
    {
     "data": {
      "image/png": "[encoded data removed]",
      "text/plain": [
       "<IPython.core.display.Image object>"
      ]
     },
     "metadata": {},
     "output_type": "display_data"
    }
   ],
   "source": [
    "workflow = StateGraph(state_schema=AgentState)\n",
    "\n",
    "#nodes\n",
    "workflow.add_node('setup', setup_node)\n",
    "workflow.add_node('agent', agent_node)\n",
    "workflow.add_node('tools', tool_node)\n",
    "workflow.add_node('respond',respond_node)\n",
    "\n",
    "#edges\n",
    "workflow.add_edge(START, 'setup')\n",
    "workflow.add_edge('setup', 'agent')\n",
    "workflow.add_edge('tools','agent')\n",
    "workflow.add_conditional_edges(source='agent',\n",
    "                               path=route,\n",
    "                               path_map={'tool call':'tools',\n",
    "                                         'exit' : 'respond'})\n",
    "workflow.add_edge('respond', END)\n",
    "\n",
    "graph = workflow.compile()\n",
    "\n",
    "display(Image(graph.get_graph().draw_mermaid_png()))"
   ]
  },
  {
   "cell_type": "code",
   "execution_count": 172,
   "id": "0036769e",
   "metadata": {},
   "outputs": [
    {
     "data": {
      "text/plain": [
       "({'query': 'James have 10 apples and 5 oranges, then George takes 2 apples and 1 orange how many apples and oranges does James have now?',\n",
       "  'messages': [SystemMessage(content='\\n- You are a helpful assistant who helps kids perform multi-stage calculations.\\n- Break down complex problems into simple, easy-to-follow steps.\\n- Always use the provided tools for calculations and to output the final output after calculations.\\n    ', additional_kwargs={}, response_metadata={}, id='9d8ab50a-0de5-4910-813f-88eb2bf9bf1f'),\n",
       "   HumanMessage(content='James have 10 apples and 5 oranges, then George takes 2 apples and 1 orange how many apples and oranges does James have now?', additional_kwargs={}, response_metadata={}, id='6f5afbb2-42bb-41f5-a47b-99bf9b954a58'),\n",
       "   AIMessage(content='', additional_kwargs={'tool_calls': [{'id': 'call_YDjg4sXibyZdVTtLfIEhcUUx', 'function': {'arguments': '{\"a\":10,\"b\":2}', 'name': 'sub'}, 'type': 'function'}], 'refusal': None}, response_metadata={'token_usage': {'completion_tokens': 17, 'prompt_tokens': 239, 'total_tokens': 256, 'completion_tokens_details': {'accepted_prediction_tokens': 0, 'audio_tokens': 0, 'reasoning_tokens': 0, 'rejected_prediction_tokens': 0}, 'prompt_tokens_details': {'audio_tokens': 0, 'cached_tokens': 0}}, 'model_name': 'gpt-3.5-turbo-0125', 'system_fingerprint': None, 'id': 'chatcmpl-BtRUo8heMvmfTie2euhtAXokIJgiQ', 'service_tier': 'default', 'finish_reason': 'tool_calls', 'logprobs': None}, id='run--0cf24e82-5b96-416b-8a13-507ec0ccd674-0', tool_calls=[{'name': 'sub', 'args': {'a': 10, 'b': 2}, 'id': 'call_YDjg4sXibyZdVTtLfIEhcUUx', 'type': 'tool_call'}], usage_metadata={'input_tokens': 239, 'output_tokens': 17, 'total_tokens': 256, 'input_token_details': {'audio': 0, 'cache_read': 0}, 'output_token_details': {'audio': 0, 'reasoning': 0}}),\n",
       "   ToolMessage(content='8.0', name='sub', id='4f2022fc-91a2-4aaa-b65f-a344b357151d', tool_call_id='call_YDjg4sXibyZdVTtLfIEhcUUx'),\n",
       "   AIMessage(content='', additional_kwargs={'tool_calls': [{'id': 'call_lOM1OTM3rFWP1rX5nNPTqVhV', 'function': {'arguments': '{\"a\":5,\"b\":1}', 'name': 'sub'}, 'type': 'function'}], 'refusal': None}, response_metadata={'token_usage': {'completion_tokens': 17, 'prompt_tokens': 266, 'total_tokens': 283, 'completion_tokens_details': {'accepted_prediction_tokens': 0, 'audio_tokens': 0, 'reasoning_tokens': 0, 'rejected_prediction_tokens': 0}, 'prompt_tokens_details': {'audio_tokens': 0, 'cached_tokens': 0}}, 'model_name': 'gpt-3.5-turbo-0125', 'system_fingerprint': None, 'id': 'chatcmpl-BtRUosQz6WJ8yDTyoopfkvktF7W1k', 'service_tier': 'default', 'finish_reason': 'tool_calls', 'logprobs': None}, id='run--910ab76a-767b-40eb-ba2e-bd0119da8713-0', tool_calls=[{'name': 'sub', 'args': {'a': 5, 'b': 1}, 'id': 'call_lOM1OTM3rFWP1rX5nNPTqVhV', 'type': 'tool_call'}], usage_metadata={'input_tokens': 266, 'output_tokens': 17, 'total_tokens': 283, 'input_token_details': {'audio': 0, 'cache_read': 0}, 'output_token_details': {'audio': 0, 'reasoning': 0}}),\n",
       "   ToolMessage(content='4.0', name='sub', id='780626b8-b000-479f-9d1f-b909b57a278c', tool_call_id='call_lOM1OTM3rFWP1rX5nNPTqVhV'),\n",
       "   AIMessage(content='After George takes 2 apples and 1 orange from James, James will have 8 apples and 4 oranges.', additional_kwargs={'refusal': None}, response_metadata={'token_usage': {'completion_tokens': 25, 'prompt_tokens': 293, 'total_tokens': 318, 'completion_tokens_details': {'accepted_prediction_tokens': 0, 'audio_tokens': 0, 'reasoning_tokens': 0, 'rejected_prediction_tokens': 0}, 'prompt_tokens_details': {'audio_tokens': 0, 'cached_tokens': 0}}, 'model_name': 'gpt-3.5-turbo-0125', 'system_fingerprint': None, 'id': 'chatcmpl-BtRUpFUeIfF2ZtKF4oeo9x3oBVC86', 'service_tier': 'default', 'finish_reason': 'stop', 'logprobs': None}, id='run--e7469643-5ea3-40b7-96c1-619848891561-0', usage_metadata={'input_tokens': 293, 'output_tokens': 25, 'total_tokens': 318, 'input_token_details': {'audio': 0, 'cache_read': 0}, 'output_token_details': {'audio': 0, 'reasoning': 0}})],\n",
       "  'final_response': FinalResponse(steps=['James had 10 apples and 5 oranges.', 'George took 2 apples and 1 orange from James.', 'Subtracting 2 from 10, James now has 8 apples.', 'Subtracting 1 from 5, James now has 4 oranges.'], answer='James now has 8 apples and 4 oranges.')},\n",
       " dict)"
      ]
     },
     "execution_count": 172,
     "metadata": {},
     "output_type": "execute_result"
    }
   ],
   "source": [
    "response = graph.invoke({'query': query, 'messages':[]})\n",
    "response, type(response)"
   ]
  },
  {
   "cell_type": "code",
   "execution_count": 174,
   "id": "b1e6ea5e",
   "metadata": {},
   "outputs": [
    {
     "data": {
      "text/plain": [
       "['James had 10 apples and 5 oranges.',\n",
       " 'George took 2 apples and 1 orange from James.',\n",
       " 'Subtracting 2 from 10, James now has 8 apples.',\n",
       " 'Subtracting 1 from 5, James now has 4 oranges.']"
      ]
     },
     "execution_count": 174,
     "metadata": {},
     "output_type": "execute_result"
    }
   ],
   "source": [
    "response['final_response'].steps"
   ]
  },
  {
   "cell_type": "code",
   "execution_count": 175,
   "id": "3779f579",
   "metadata": {},
   "outputs": [
    {
     "data": {
      "text/plain": [
       "'James now has 8 apples and 4 oranges.'"
      ]
     },
     "execution_count": 175,
     "metadata": {},
     "output_type": "execute_result"
    }
   ],
   "source": [
    "response['final_response'].answer"
   ]
  },
  {
   "cell_type": "markdown",
   "id": "5cd4f8ff",
   "metadata": {},
   "source": [
    "### Force Tool Call"
   ]
  },
  {
   "cell_type": "code",
   "execution_count": null,
   "id": "715569d2",
   "metadata": {},
   "outputs": [],
   "source": []
  },
  {
   "cell_type": "markdown",
   "id": "4f9ec6c3",
   "metadata": {},
   "source": [
    "### Breakpoints"
   ]
  },
  {
   "cell_type": "code",
   "execution_count": null,
   "id": "794b61aa",
   "metadata": {},
   "outputs": [],
   "source": []
  },
  {
   "cell_type": "markdown",
   "id": "1c2b5157",
   "metadata": {},
   "source": [
    "### Configuration"
   ]
  },
  {
   "cell_type": "code",
   "execution_count": null,
   "id": "003f89cf",
   "metadata": {},
   "outputs": [],
   "source": []
  },
  {
   "cell_type": "markdown",
   "id": "9ea060fd",
   "metadata": {},
   "source": [
    "### Streaming"
   ]
  },
  {
   "cell_type": "code",
   "execution_count": null,
   "id": "4af7a25f",
   "metadata": {},
   "outputs": [],
   "source": []
  }
 ],
 "metadata": {
  "kernelspec": {
   "display_name": "venv",
   "language": "python",
   "name": "python3"
  },
  "language_info": {
   "codemirror_mode": {
    "name": "ipython",
    "version": 3
   },
   "file_extension": ".py",
   "mimetype": "text/x-python",
   "name": "python",
   "nbconvert_exporter": "python",
   "pygments_lexer": "ipython3",
   "version": "3.11.3"
  }
 },
 "nbformat": 4,
 "nbformat_minor": 5
}
