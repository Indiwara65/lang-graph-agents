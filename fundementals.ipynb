{
 "cells": [
  {
   "cell_type": "code",
   "execution_count": 1,
   "id": "8300be75",
   "metadata": {},
   "outputs": [],
   "source": [
    "from typing import Annotated, TypedDict\n",
    "from enum import Enum\n",
    "from pydantic import BaseModel, Field"
   ]
  },
  {
   "cell_type": "markdown",
   "id": "4e8f9ec2",
   "metadata": {},
   "source": [
    "### Dict Validations"
   ]
  },
  {
   "cell_type": "code",
   "execution_count": 30,
   "id": "37b87c21",
   "metadata": {},
   "outputs": [
    {
     "data": {
      "text/plain": [
       "(dict, {'name': 'James', 'year': 2009, 'stars': 10}, 'James', 2009)"
      ]
     },
     "execution_count": 30,
     "metadata": {},
     "output_type": "execute_result"
    }
   ],
   "source": [
    "#Leaves the dictionary as a dictionary only for type hinting and no validation or validation errors\n",
    "class Movie(TypedDict):\n",
    "    name:str\n",
    "    year:int\n",
    "movie_1 = Movie(name=\"James\", year=2009, stars=10)\n",
    "type(movie_1), movie_1, movie_1.get('name'), movie_1.get('year')"
   ]
  },
  {
   "cell_type": "code",
   "execution_count": null,
   "id": "2825d50e",
   "metadata": {},
   "outputs": [
    {
     "data": {
      "text/plain": [
       "(__main__.movie, movie(name='James', year=2009), 'James', 2009)"
      ]
     },
     "execution_count": 28,
     "metadata": {},
     "output_type": "execute_result"
    }
   ],
   "source": [
    "#Provides type hints, data validation and validation errors, final instance will not be a python dict.\n",
    "class movie(BaseModel):\n",
    "    name:str\n",
    "    year:int = Field(ge=1920, le=2050)\n",
    "movie_2 = movie(name=\"James\", year=2009, stars=10)\n",
    "type(movie_2), movie_2, movie_2.name, movie_2.year"
   ]
  },
  {
   "cell_type": "code",
   "execution_count": 34,
   "id": "67ba092e",
   "metadata": {},
   "outputs": [
    {
     "data": {
      "text/plain": [
       "{'name': 'James', 'year': 2009}"
      ]
     },
     "execution_count": 34,
     "metadata": {},
     "output_type": "execute_result"
    }
   ],
   "source": [
    "#to get dict from BaseModel class instance\n",
    "movie_2.model_dump()"
   ]
  },
  {
   "cell_type": "markdown",
   "id": "f12d54ce",
   "metadata": {},
   "source": [
    "### Enumerations"
   ]
  },
  {
   "cell_type": "code",
   "execution_count": null,
   "id": "7f532476",
   "metadata": {},
   "outputs": [],
   "source": [
    "##Enumerations\n",
    "class Stars(int, Enum):\n",
    "    zero = 0\n",
    "    one = 1\n",
    "    two = 2\n",
    "    three = 3\n",
    "    four = 4\n",
    "    five = 5\n"
   ]
  },
  {
   "cell_type": "code",
   "execution_count": 48,
   "id": "1fcca481",
   "metadata": {},
   "outputs": [
    {
     "data": {
      "text/plain": [
       "(dict, {'name': 'James', 'year': 2009, 'stars': 20}, 'James', 2009)"
      ]
     },
     "execution_count": 48,
     "metadata": {},
     "output_type": "execute_result"
    }
   ],
   "source": [
    "class Movie(TypedDict):\n",
    "    name:str\n",
    "    year:int\n",
    "    stars:Stars\n",
    "movie_1 = Movie(name=\"James\", year=2009, stars=20)\n",
    "type(movie_1), movie_1, movie_1.get('name'), movie_1.get('year')"
   ]
  },
  {
   "cell_type": "code",
   "execution_count": 46,
   "id": "20422bfa",
   "metadata": {},
   "outputs": [
    {
     "data": {
      "text/plain": [
       "(<Stars.one: 1>, 1)"
      ]
     },
     "execution_count": 46,
     "metadata": {},
     "output_type": "execute_result"
    }
   ],
   "source": [
    "class movie(BaseModel):\n",
    "    name:str\n",
    "    year:int = Field(ge=1920, le=2050)\n",
    "    stars:Stars\n",
    "movie_3 = movie(name='James', year=2009, stars=1)\n",
    "movie_3.stars, movie_3.stars.value"
   ]
  },
  {
   "cell_type": "markdown",
   "id": "181e94c4",
   "metadata": {},
   "source": [
    "### Lambda Functions        \n",
    "* Can be used to define sinple funcations without using *def*.      \n",
    "* Ideal for one line functions.          \n",
    "* Also used in cases where a function only be needed be used once.                        \n",
    "* *lambda* arguemnts : expression"
   ]
  },
  {
   "cell_type": "code",
   "execution_count": 2,
   "id": "57908cf0",
   "metadata": {},
   "outputs": [
    {
     "data": {
      "text/plain": [
       "21"
      ]
     },
     "execution_count": 2,
     "metadata": {},
     "output_type": "execute_result"
    }
   ],
   "source": [
    "add = lambda x,y : x+y\n",
    "add(10,11)"
   ]
  },
  {
   "cell_type": "code",
   "execution_count": 3,
   "id": "ff437f95",
   "metadata": {},
   "outputs": [
    {
     "data": {
      "text/plain": [
       "100"
      ]
     },
     "execution_count": 3,
     "metadata": {},
     "output_type": "execute_result"
    }
   ],
   "source": [
    "square = lambda x : x*x\n",
    "square(10)"
   ]
  },
  {
   "cell_type": "code",
   "execution_count": 4,
   "id": "d2ac308c",
   "metadata": {},
   "outputs": [
    {
     "data": {
      "text/plain": [
       "'Hello world'"
      ]
     },
     "execution_count": 4,
     "metadata": {},
     "output_type": "execute_result"
    }
   ],
   "source": [
    "#no arguments\n",
    "hello = lambda: \"Hello world\"\n",
    "hello()"
   ]
  },
  {
   "cell_type": "code",
   "execution_count": 6,
   "id": "ada7739c",
   "metadata": {},
   "outputs": [],
   "source": [
    "#lambda with list builtin\n",
    "nums = [1,2,3,4,5]\n",
    "squared = list(map(lambda x: x**2, nums))"
   ]
  },
  {
   "cell_type": "code",
   "execution_count": 7,
   "id": "0f98b69e",
   "metadata": {},
   "outputs": [
    {
     "data": {
      "text/plain": [
       "[2, 4]"
      ]
     },
     "execution_count": 7,
     "metadata": {},
     "output_type": "execute_result"
    }
   ],
   "source": [
    "filtered = list(filter(lambda x:x%2==0, nums))\n",
    "filtered"
   ]
  },
  {
   "cell_type": "code",
   "execution_count": 8,
   "id": "81dd3e34",
   "metadata": {},
   "outputs": [],
   "source": [
    "ops = {\n",
    "    'add' : lambda x,y:x+y,\n",
    "    'sub' : lambda x,y:x-y\n",
    "}"
   ]
  },
  {
   "cell_type": "code",
   "execution_count": 9,
   "id": "00962174",
   "metadata": {},
   "outputs": [
    {
     "data": {
      "text/plain": [
       "(22, 2)"
      ]
     },
     "execution_count": 9,
     "metadata": {},
     "output_type": "execute_result"
    }
   ],
   "source": [
    "ops['add'](10,12), ops['sub'](12,10)"
   ]
  },
  {
   "cell_type": "markdown",
   "id": "d4dc121c",
   "metadata": {},
   "source": [
    "## Type Hinting\n",
    "* Type hinting errors will be captured by type checkers such as *mypy*"
   ]
  },
  {
   "cell_type": "markdown",
   "id": "078edf92",
   "metadata": {},
   "source": [
    "### Annotated           \n",
    "*Annotated is a tool that can be used to give additional information in addition to the data type.\n",
    "*This additional metadata can be read for extra functionality.\n",
    "* Annotated[data type, metadata]\n",
    "    * data type - actual data type. eg - int, str, List[int], etc...\n",
    "    * metadata - can be string a class etc..     "
   ]
  },
  {
   "cell_type": "code",
   "execution_count": null,
   "id": "591c41cf",
   "metadata": {},
   "outputs": [],
   "source": [
    "from fastapi import Form, Query\n",
    "from typing import Annotated"
   ]
  },
  {
   "cell_type": "code",
   "execution_count": 14,
   "id": "b729e965",
   "metadata": {},
   "outputs": [
    {
     "data": {
      "text/plain": [
       "(('must be positive',), tuple)"
      ]
     },
     "execution_count": 14,
     "metadata": {},
     "output_type": "execute_result"
    }
   ],
   "source": [
    "a = Annotated[int, \"must be positive\"]\n",
    "a.__metadata__, type(a.__metadata__)"
   ]
  },
  {
   "cell_type": "code",
   "execution_count": 3,
   "id": "d3050115",
   "metadata": {},
   "outputs": [
    {
     "data": {
      "text/plain": [
       "typing._AnnotatedAlias"
      ]
     },
     "execution_count": 3,
     "metadata": {},
     "output_type": "execute_result"
    }
   ],
   "source": [
    "a = Annotated[str, Form]\n",
    "type(a)"
   ]
  },
  {
   "cell_type": "code",
   "execution_count": 13,
   "id": "ff152b2f",
   "metadata": {},
   "outputs": [
    {
     "data": {
      "text/plain": [
       "('must be positive',)"
      ]
     },
     "execution_count": 13,
     "metadata": {},
     "output_type": "execute_result"
    }
   ],
   "source": [
    "a.__metadata__"
   ]
  },
  {
   "cell_type": "code",
   "execution_count": 10,
   "id": "622bfe01",
   "metadata": {},
   "outputs": [
    {
     "data": {
      "text/plain": [
       "(Query(PydanticUndefined),)"
      ]
     },
     "execution_count": 10,
     "metadata": {},
     "output_type": "execute_result"
    }
   ],
   "source": [
    "a = Annotated[int, Query(gt=0, lt=100)]\n",
    "a.__metadata__"
   ]
  },
  {
   "cell_type": "markdown",
   "id": "924ef2ba",
   "metadata": {},
   "source": [
    "### Sequence          \n",
    "* Sequence is used to type hint a variable as a readable sequence.\n",
    "* So the input can be ither a list, tuble, string, numpy array or any other readable sequence.\n",
    "* A *Sequence* is a base class which have the following properties :                   \n",
    "    * len()       \n",
    "    * indexing (seq[0])          \n",
    "    * can be read-only (in-mutable, no append, pop or other mutable functionality)\n"
   ]
  },
  {
   "cell_type": "code",
   "execution_count": 7,
   "id": "8ac1745d",
   "metadata": {},
   "outputs": [],
   "source": [
    "from typing import Sequence"
   ]
  },
  {
   "cell_type": "code",
   "execution_count": 17,
   "id": "b92785ef",
   "metadata": {},
   "outputs": [
    {
     "name": "stdout",
     "output_type": "stream",
     "text": [
      "0 : 1\n",
      "1 : 2\n",
      "2 : 3\n",
      "3 : 4\n",
      "4 : 5\n",
      "\n",
      "\n",
      "0 : H\n",
      "1 : e\n",
      "2 : l\n",
      "3 : l\n",
      "4 : o\n",
      "\n",
      "\n",
      "0 : 10\n",
      "1 : 12\n",
      "2 : 13\n"
     ]
    }
   ],
   "source": [
    "def print_sequence(items:Sequence):\n",
    "    for i,item in enumerate(items):\n",
    "        print(f\"{i} : {item}\")\n",
    "\n",
    "print_sequence([1,2,3,4,5])\n",
    "print('\\n')\n",
    "print_sequence(\"Hello\")\n",
    "print('\\n')\n",
    "print_sequence((10,12,13))"
   ]
  },
  {
   "cell_type": "code",
   "execution_count": 20,
   "id": "f4757ee7",
   "metadata": {},
   "outputs": [
    {
     "name": "stdout",
     "output_type": "stream",
     "text": [
      "0 : 1\n",
      "1 : 2\n",
      "2 : 3\n",
      "3 : 4\n",
      "4 : 5\n",
      "5 : tail\n",
      "\n",
      "\n",
      "Exception : 'str' object has no attribute 'append'\n",
      "\n",
      "\n",
      "Exception : 'tuple' object has no attribute 'append'\n"
     ]
    }
   ],
   "source": [
    "def print_sequence(items:Sequence):\n",
    "    items.append('tail')\n",
    "    for i,item in enumerate(items):\n",
    "        print(f\"{i} : {item}\")\n",
    "\n",
    "print_sequence([1,2,3,4,5])\n",
    "print('\\n')\n",
    "try:\n",
    "    print_sequence(\"Hello\")\n",
    "except Exception as e:\n",
    "    print(f\"Exception : {e}\")\n",
    "print('\\n')\n",
    "try:\n",
    "    print_sequence((10,12,13))\n",
    "except Exception as e:\n",
    "    print(f\"Exception : {e}\")"
   ]
  },
  {
   "cell_type": "markdown",
   "id": "1fb1a7fa",
   "metadata": {},
   "source": [
    "### MutableSequence        \n",
    "* Similar to *Sequence* but only excepts mutable sequences."
   ]
  },
  {
   "cell_type": "code",
   "execution_count": 22,
   "id": "cb0dd00c",
   "metadata": {},
   "outputs": [
    {
     "name": "stdout",
     "output_type": "stream",
     "text": [
      "0 : 1\n",
      "1 : 2\n",
      "2 : 3\n",
      "3 : 4\n",
      "4 : 5\n",
      "5 : tail\n",
      "\n",
      "\n"
     ]
    }
   ],
   "source": [
    "from typing import MutableSequence\n",
    "\n",
    "def print_sequence(items:MutableSequence):\n",
    "    items.append('tail')\n",
    "    for i,item in enumerate(items):\n",
    "        print(f\"{i} : {item}\")\n",
    "\n",
    "print_sequence([1,2,3,4,5])\n",
    "print('\\n')"
   ]
  },
  {
   "cell_type": "markdown",
   "id": "7576bb08",
   "metadata": {},
   "source": [
    "### Generator         \n",
    "* A generator is a special kind of Python object that produces a sequence of values lazily, one at a time, as you iterate over it.\n",
    "* Think of it like a factory that makes one item on demand — rather than building the entire list up front.       \n",
    "* Works for sequence type generations."
   ]
  },
  {
   "cell_type": "markdown",
   "id": "65a6d31a",
   "metadata": {},
   "source": [
    "##### One"
   ]
  },
  {
   "cell_type": "code",
   "execution_count": 27,
   "id": "18842f04",
   "metadata": {},
   "outputs": [
    {
     "data": {
      "text/plain": [
       "[0, 1, 4]"
      ]
     },
     "execution_count": 27,
     "metadata": {},
     "output_type": "execute_result"
    }
   ],
   "source": [
    "mylist = [i * i for i in range(3)] # generates the entire list at once\n",
    "mylist"
   ]
  },
  {
   "cell_type": "code",
   "execution_count": 28,
   "id": "522ba605",
   "metadata": {},
   "outputs": [
    {
     "name": "stdout",
     "output_type": "stream",
     "text": [
      "0\n",
      "1\n",
      "4\n"
     ]
    }
   ],
   "source": [
    "mygen = (i * i for i in range(3)) # geneartes a generator (recipe on how to generate the numbers)\n",
    "#numbers can be generated by passing throught a for loop or can be converted to a list\n",
    "for num in mygen:\n",
    "    print(num)"
   ]
  },
  {
   "cell_type": "code",
   "execution_count": 29,
   "id": "7ef6eb9f",
   "metadata": {},
   "outputs": [
    {
     "data": {
      "text/plain": [
       "[0, 1, 4]"
      ]
     },
     "execution_count": 29,
     "metadata": {},
     "output_type": "execute_result"
    }
   ],
   "source": [
    "mygen = (i * i for i in range(3))\n",
    "list(mygen)"
   ]
  },
  {
   "cell_type": "markdown",
   "id": "b3eebe8c",
   "metadata": {},
   "source": [
    "#### Two"
   ]
  },
  {
   "cell_type": "code",
   "execution_count": 32,
   "id": "c526876c",
   "metadata": {},
   "outputs": [
    {
     "data": {
      "text/plain": [
       "generator"
      ]
     },
     "execution_count": 32,
     "metadata": {},
     "output_type": "execute_result"
    }
   ],
   "source": [
    "def count_up_to(n):\n",
    "    i = 1\n",
    "    while i <= n:\n",
    "        yield i\n",
    "        i += 1\n",
    "\n",
    "gen = count_up_to(3)\n",
    "type(gen)"
   ]
  },
  {
   "cell_type": "code",
   "execution_count": 33,
   "id": "d284c1fc",
   "metadata": {},
   "outputs": [
    {
     "name": "stdout",
     "output_type": "stream",
     "text": [
      "1\n",
      "2\n",
      "3\n"
     ]
    }
   ],
   "source": [
    "for num in gen:\n",
    "    print(num)"
   ]
  },
  {
   "cell_type": "code",
   "execution_count": null,
   "id": "9a804254",
   "metadata": {},
   "outputs": [],
   "source": [
    "#deccorator, mutable, immutable, yield"
   ]
  }
 ],
 "metadata": {
  "kernelspec": {
   "display_name": "venv",
   "language": "python",
   "name": "python3"
  },
  "language_info": {
   "codemirror_mode": {
    "name": "ipython",
    "version": 3
   },
   "file_extension": ".py",
   "mimetype": "text/x-python",
   "name": "python",
   "nbconvert_exporter": "python",
   "pygments_lexer": "ipython3",
   "version": "3.11.3"
  }
 },
 "nbformat": 4,
 "nbformat_minor": 5
}
