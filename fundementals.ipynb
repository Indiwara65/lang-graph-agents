{
 "cells": [
  {
   "cell_type": "code",
   "execution_count": 1,
   "id": "8300be75",
   "metadata": {},
   "outputs": [],
   "source": [
    "from typing import Annotated, TypedDict\n",
    "from enum import Enum\n",
    "from pydantic import BaseModel, Field"
   ]
  },
  {
   "cell_type": "markdown",
   "id": "4e8f9ec2",
   "metadata": {},
   "source": [
    "### Dict Validations"
   ]
  },
  {
   "cell_type": "code",
   "execution_count": 30,
   "id": "37b87c21",
   "metadata": {},
   "outputs": [
    {
     "data": {
      "text/plain": [
       "(dict, {'name': 'James', 'year': 2009, 'stars': 10}, 'James', 2009)"
      ]
     },
     "execution_count": 30,
     "metadata": {},
     "output_type": "execute_result"
    }
   ],
   "source": [
    "#Leaves the dictionary as a dictionary only for type hinting and no validation or validation errors\n",
    "class Movie(TypedDict):\n",
    "    name:str\n",
    "    year:int\n",
    "movie_1 = Movie(name=\"James\", year=2009, stars=10)\n",
    "type(movie_1), movie_1, movie_1.get('name'), movie_1.get('year')"
   ]
  },
  {
   "cell_type": "code",
   "execution_count": null,
   "id": "2825d50e",
   "metadata": {},
   "outputs": [
    {
     "data": {
      "text/plain": [
       "(__main__.movie, movie(name='James', year=2009), 'James', 2009)"
      ]
     },
     "execution_count": 28,
     "metadata": {},
     "output_type": "execute_result"
    }
   ],
   "source": [
    "#Provides type hints, data validation and validation errors, final instance will not be a python dict.\n",
    "class movie(BaseModel):\n",
    "    name:str\n",
    "    year:int = Field(ge=1920, le=2050)\n",
    "movie_2 = movie(name=\"James\", year=2009, stars=10)\n",
    "type(movie_2), movie_2, movie_2.name, movie_2.year"
   ]
  },
  {
   "cell_type": "code",
   "execution_count": 34,
   "id": "67ba092e",
   "metadata": {},
   "outputs": [
    {
     "data": {
      "text/plain": [
       "{'name': 'James', 'year': 2009}"
      ]
     },
     "execution_count": 34,
     "metadata": {},
     "output_type": "execute_result"
    }
   ],
   "source": [
    "#to get dict from BaseModel class instance\n",
    "movie_2.model_dump()"
   ]
  },
  {
   "cell_type": "markdown",
   "id": "f12d54ce",
   "metadata": {},
   "source": [
    "### Enumerations"
   ]
  },
  {
   "cell_type": "code",
   "execution_count": null,
   "id": "7f532476",
   "metadata": {},
   "outputs": [],
   "source": [
    "##Enumerations\n",
    "class Stars(int, Enum):\n",
    "    zero = 0\n",
    "    one = 1\n",
    "    two = 2\n",
    "    three = 3\n",
    "    four = 4\n",
    "    five = 5\n"
   ]
  },
  {
   "cell_type": "code",
   "execution_count": 48,
   "id": "1fcca481",
   "metadata": {},
   "outputs": [
    {
     "data": {
      "text/plain": [
       "(dict, {'name': 'James', 'year': 2009, 'stars': 20}, 'James', 2009)"
      ]
     },
     "execution_count": 48,
     "metadata": {},
     "output_type": "execute_result"
    }
   ],
   "source": [
    "class Movie(TypedDict):\n",
    "    name:str\n",
    "    year:int\n",
    "    stars:Stars\n",
    "movie_1 = Movie(name=\"James\", year=2009, stars=20)\n",
    "type(movie_1), movie_1, movie_1.get('name'), movie_1.get('year')"
   ]
  },
  {
   "cell_type": "code",
   "execution_count": 46,
   "id": "20422bfa",
   "metadata": {},
   "outputs": [
    {
     "data": {
      "text/plain": [
       "(<Stars.one: 1>, 1)"
      ]
     },
     "execution_count": 46,
     "metadata": {},
     "output_type": "execute_result"
    }
   ],
   "source": [
    "class movie(BaseModel):\n",
    "    name:str\n",
    "    year:int = Field(ge=1920, le=2050)\n",
    "    stars:Stars\n",
    "movie_3 = movie(name='James', year=2009, stars=1)\n",
    "movie_3.stars, movie_3.stars.value"
   ]
  },
  {
   "cell_type": "markdown",
   "id": "181e94c4",
   "metadata": {},
   "source": [
    "### Lambda Functions        \n",
    "* Can be used to define sinple funcations without using *def*.      \n",
    "* Ideal for one line functions.          \n",
    "* Also used in cases where a function only be needed be used once.                        \n",
    "* *lambda* arguemnts : expression"
   ]
  },
  {
   "cell_type": "code",
   "execution_count": 2,
   "id": "57908cf0",
   "metadata": {},
   "outputs": [
    {
     "data": {
      "text/plain": [
       "21"
      ]
     },
     "execution_count": 2,
     "metadata": {},
     "output_type": "execute_result"
    }
   ],
   "source": [
    "add = lambda x,y : x+y\n",
    "add(10,11)"
   ]
  },
  {
   "cell_type": "code",
   "execution_count": 3,
   "id": "ff437f95",
   "metadata": {},
   "outputs": [
    {
     "data": {
      "text/plain": [
       "100"
      ]
     },
     "execution_count": 3,
     "metadata": {},
     "output_type": "execute_result"
    }
   ],
   "source": [
    "square = lambda x : x*x\n",
    "square(10)"
   ]
  },
  {
   "cell_type": "code",
   "execution_count": 4,
   "id": "d2ac308c",
   "metadata": {},
   "outputs": [
    {
     "data": {
      "text/plain": [
       "'Hello world'"
      ]
     },
     "execution_count": 4,
     "metadata": {},
     "output_type": "execute_result"
    }
   ],
   "source": [
    "#no arguments\n",
    "hello = lambda: \"Hello world\"\n",
    "hello()"
   ]
  },
  {
   "cell_type": "code",
   "execution_count": 6,
   "id": "ada7739c",
   "metadata": {},
   "outputs": [],
   "source": [
    "#lambda with list builtin\n",
    "nums = [1,2,3,4,5]\n",
    "squared = list(map(lambda x: x**2, nums))"
   ]
  },
  {
   "cell_type": "code",
   "execution_count": 7,
   "id": "0f98b69e",
   "metadata": {},
   "outputs": [
    {
     "data": {
      "text/plain": [
       "[2, 4]"
      ]
     },
     "execution_count": 7,
     "metadata": {},
     "output_type": "execute_result"
    }
   ],
   "source": [
    "filtered = list(filter(lambda x:x%2==0, nums))\n",
    "filtered"
   ]
  },
  {
   "cell_type": "code",
   "execution_count": 8,
   "id": "81dd3e34",
   "metadata": {},
   "outputs": [],
   "source": [
    "ops = {\n",
    "    'add' : lambda x,y:x+y,\n",
    "    'sub' : lambda x,y:x-y\n",
    "}"
   ]
  },
  {
   "cell_type": "code",
   "execution_count": 9,
   "id": "00962174",
   "metadata": {},
   "outputs": [
    {
     "data": {
      "text/plain": [
       "(22, 2)"
      ]
     },
     "execution_count": 9,
     "metadata": {},
     "output_type": "execute_result"
    }
   ],
   "source": [
    "ops['add'](10,12), ops['sub'](12,10)"
   ]
  },
  {
   "cell_type": "code",
   "execution_count": null,
   "id": "4736bf8a",
   "metadata": {},
   "outputs": [],
   "source": []
  }
 ],
 "metadata": {
  "kernelspec": {
   "display_name": "venv",
   "language": "python",
   "name": "python3"
  },
  "language_info": {
   "codemirror_mode": {
    "name": "ipython",
    "version": 3
   },
   "file_extension": ".py",
   "mimetype": "text/x-python",
   "name": "python",
   "nbconvert_exporter": "python",
   "pygments_lexer": "ipython3",
   "version": "3.11.3"
  }
 },
 "nbformat": 4,
 "nbformat_minor": 5
}
