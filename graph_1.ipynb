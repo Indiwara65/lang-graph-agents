{
 "cells": [
  {
   "cell_type": "markdown",
   "id": "3b36d772",
   "metadata": {},
   "source": [
    "#### Hello World Graph"
   ]
  },
  {
   "cell_type": "markdown",
   "id": "be4ebd9f",
   "metadata": {},
   "source": [
    "##### Graph One"
   ]
  },
  {
   "cell_type": "code",
   "execution_count": 2,
   "id": "7e0bf936",
   "metadata": {},
   "outputs": [],
   "source": [
    "from typing import Dict, TypedDict\n",
    "from langgraph.graph import StateGraph"
   ]
  },
  {
   "cell_type": "code",
   "execution_count": 3,
   "id": "4c892956",
   "metadata": {},
   "outputs": [],
   "source": [
    "#State\n",
    "class AgentState(TypedDict):\n",
    "    message : str\n",
    "\n",
    "#Node\n",
    "def greeting_node(state:AgentState)->AgentState:\n",
    "    #dock string - tells the LLM what this node is doing\n",
    "    \"\"\"Simple node that adds a greeting message to the state\"\"\"\n",
    "    state['message'] = f\"Hey {state['message']}, how are you doing!\" \n",
    "    return state"
   ]
  },
  {
   "cell_type": "code",
   "execution_count": 6,
   "id": "e62954a5",
   "metadata": {},
   "outputs": [],
   "source": [
    "#Define Graph\n",
    "graph = StateGraph(state_schema=AgentState)\n",
    "#add node\n",
    "graph.add_node(\"greeter\", action=greeting_node)\n",
    "#start pioint\n",
    "graph.set_entry_point(\"greeter\")\n",
    "#end point\n",
    "graph.set_finish_point(\"greeter\")\n",
    "\n",
    "app = graph.compile()"
   ]
  },
  {
   "cell_type": "code",
   "execution_count": 7,
   "id": "2f3d3f25",
   "metadata": {},
   "outputs": [
    {
     "data": {
      "text/plain": [
       "(langgraph.graph.state.CompiledStateGraph, langgraph.graph.state.StateGraph)"
      ]
     },
     "execution_count": 7,
     "metadata": {},
     "output_type": "execute_result"
    }
   ],
   "source": [
    "type(app), type(graph)"
   ]
  },
  {
   "cell_type": "code",
   "execution_count": 8,
   "id": "4cb402f3",
   "metadata": {},
   "outputs": [
    {
     "data": {
      "text/plain": [
       "{'message': 'Hey Bob, how are you doing!'}"
      ]
     },
     "execution_count": 8,
     "metadata": {},
     "output_type": "execute_result"
    }
   ],
   "source": [
    "app.invoke({'message':'Bob'})"
   ]
  },
  {
   "cell_type": "markdown",
   "id": "ea951ebb",
   "metadata": {},
   "source": [
    "#### Graph One Exercise"
   ]
  },
  {
   "cell_type": "code",
   "execution_count": 10,
   "id": "3ceeb81c",
   "metadata": {},
   "outputs": [],
   "source": [
    "class AgentState(TypedDict):\n",
    "    name : str\n",
    "\n",
    "def node_one(state:AgentState)->AgentState:\n",
    "    \"\"\"This is node one\"\"\"\n",
    "    name = f\"{state['name']}, you're doing an amazing job learning LangGraph!\"\n",
    "    return AgentState(name=name)"
   ]
  },
  {
   "cell_type": "code",
   "execution_count": 11,
   "id": "a3f49044",
   "metadata": {},
   "outputs": [],
   "source": [
    "graph = StateGraph(state_schema=AgentState)\n",
    "graph.add_node(node='node one', action=node_one)\n",
    "graph.set_entry_point('node one')\n",
    "graph.set_finish_point('node one')\n",
    "\n",
    "app = graph.compile()"
   ]
  },
  {
   "cell_type": "code",
   "execution_count": 12,
   "id": "27b5f382",
   "metadata": {},
   "outputs": [
    {
     "data": {
      "text/plain": [
       "{'name': \"Bob, you're doing an amazing job learning LangGraph!\"}"
      ]
     },
     "execution_count": 12,
     "metadata": {},
     "output_type": "execute_result"
    }
   ],
   "source": [
    "app.invoke({'name':'Bob'})"
   ]
  },
  {
   "cell_type": "markdown",
   "id": "b344a140",
   "metadata": {},
   "source": [
    "### Graph Two    \n",
    "Multiple inputs"
   ]
  },
  {
   "cell_type": "code",
   "execution_count": 1,
   "id": "df1fdc99",
   "metadata": {},
   "outputs": [],
   "source": [
    "from typing import TypedDict, List\n",
    "from langgraph.graph import StateGraph"
   ]
  },
  {
   "cell_type": "code",
   "execution_count": 2,
   "id": "451edfe1",
   "metadata": {},
   "outputs": [],
   "source": [
    "class AgentState(TypedDict):\n",
    "    values:List[int]\n",
    "    name:str\n",
    "    result:str"
   ]
  },
  {
   "cell_type": "code",
   "execution_count": 3,
   "id": "4e0043dd",
   "metadata": {},
   "outputs": [],
   "source": [
    "def process_values(state:AgentState)->AgentState:\n",
    "    \"\"\"This function handles multiple inputs\"\"\"\n",
    "    state['result'] = f\"Hi {state['name']}, the sum of your values are {sum(state['values'])}\"\n",
    "    return state"
   ]
  },
  {
   "cell_type": "code",
   "execution_count": 4,
   "id": "7460d024",
   "metadata": {},
   "outputs": [],
   "source": [
    "graph = StateGraph(state_schema=AgentState)\n",
    "\n",
    "graph.add_node(node='processor',action=process_values)\n",
    "graph.set_entry_point('processor')\n",
    "graph.set_finish_point('processor')\n",
    "\n",
    "app = graph.compile()"
   ]
  },
  {
   "cell_type": "code",
   "execution_count": 5,
   "id": "7302281a",
   "metadata": {},
   "outputs": [
    {
     "data": {
      "text/plain": [
       "{'values': [10, 12, 3],\n",
       " 'name': 'Bob',\n",
       " 'result': 'Hi Bob, the sum of your values are 25'}"
      ]
     },
     "execution_count": 5,
     "metadata": {},
     "output_type": "execute_result"
    }
   ],
   "source": [
    "app.invoke({'name':'Bob','result':None, 'values':[10,12,3]})"
   ]
  },
  {
   "cell_type": "code",
   "execution_count": 8,
   "id": "88949300",
   "metadata": {},
   "outputs": [
    {
     "data": {
      "image/png": "[encoded data removed]",
      "text/plain": [
       "<IPython.core.display.Image object>"
      ]
     },
     "metadata": {},
     "output_type": "display_data"
    }
   ],
   "source": [
    "from IPython.display import Image, display\n",
    "\n",
    "display(Image(app.get_graph().draw_mermaid_png()))"
   ]
  },
  {
   "cell_type": "markdown",
   "id": "21114541",
   "metadata": {},
   "source": [
    "#### Agent Two Exercise"
   ]
  },
  {
   "cell_type": "code",
   "execution_count": 11,
   "id": "c9ce5bf7",
   "metadata": {},
   "outputs": [],
   "source": [
    "class AgentState(TypedDict):\n",
    "    name : str\n",
    "    operation : str\n",
    "    values : List[int]\n",
    "    result : str"
   ]
  },
  {
   "cell_type": "code",
   "execution_count": 15,
   "id": "a6e1415d",
   "metadata": {},
   "outputs": [],
   "source": [
    "def process(state:AgentState)->AgentState:\n",
    "    \"\"\"Processing Node\"\"\"\n",
    "    if state['operation']=='+':\n",
    "        value = sum(state['values'])\n",
    "    else:\n",
    "        value = 1\n",
    "        for val in state['values']:\n",
    "            value *= val\n",
    "    state['result'] =  f\"Hi {state['name']}. your answer is: {value}\"\n",
    "    return state"
   ]
  },
  {
   "cell_type": "code",
   "execution_count": 16,
   "id": "67b0b289",
   "metadata": {},
   "outputs": [],
   "source": [
    "graph = StateGraph(state_schema=AgentState)\n",
    "\n",
    "graph.add_node(node='processing', action=process)\n",
    "graph.set_entry_point('processing')\n",
    "graph.set_finish_point('processing')\n",
    "\n",
    "app = graph.compile()"
   ]
  },
  {
   "cell_type": "code",
   "execution_count": 18,
   "id": "f3ed52b6",
   "metadata": {},
   "outputs": [
    {
     "data": {
      "text/plain": [
       "{'name': 'Jack Sparrow',\n",
       " 'operation': 'x',\n",
       " 'values': [1, 2, 3, 4, 5],\n",
       " 'result': 'Hi Jack Sparrow. your answer is: 120'}"
      ]
     },
     "execution_count": 18,
     "metadata": {},
     "output_type": "execute_result"
    }
   ],
   "source": [
    "app.invoke({'name':'Jack Sparrow', 'operation':'x', 'values':[1,2,3,4,5], 'result':\"\"})"
   ]
  },
  {
   "cell_type": "markdown",
   "id": "98b9cc0f",
   "metadata": {},
   "source": [
    "### Agent Three"
   ]
  },
  {
   "cell_type": "code",
   "execution_count": 34,
   "id": "b8153ecc",
   "metadata": {},
   "outputs": [],
   "source": [
    "from typing import TypedDict\n",
    "from langgraph.graph import StateGraph\n",
    "from datetime import datetime, timedelta\n",
    "from dateutil.relativedelta import relativedelta\n",
    "from IPython.display import Image, display"
   ]
  },
  {
   "cell_type": "code",
   "execution_count": 32,
   "id": "6db2c523",
   "metadata": {},
   "outputs": [
    {
     "data": {
      "text/plain": [
       "relativedelta(years=+4, months=+1, days=+21, hours=+3, minutes=+3, seconds=+26, microseconds=+758718)"
      ]
     },
     "execution_count": 32,
     "metadata": {},
     "output_type": "execute_result"
    }
   ],
   "source": [
    "date_str = \"2021-05-20\"\n",
    "dt_1 = datetime.strptime(date_str,\"%Y-%m-%d\")\n",
    "date_str = \"2022-05-20\"\n",
    "dt_2 = datetime.now() + timedelta(hours=5, minutes=30)\n",
    "diff = relativedelta(dt_2, dt_1)\n",
    "diff"
   ]
  },
  {
   "cell_type": "code",
   "execution_count": 28,
   "id": "12a0df24",
   "metadata": {},
   "outputs": [],
   "source": [
    "class AgentState(TypedDict):\n",
    "    name:str\n",
    "    birthdate:str\n",
    "    result:str"
   ]
  },
  {
   "cell_type": "code",
   "execution_count": 33,
   "id": "f30e7f8e",
   "metadata": {},
   "outputs": [],
   "source": [
    "def node_1(state:AgentState)->AgentState:\n",
    "    \"\"\"This is the greeting node.\"\"\"\n",
    "    state['result'] = f\"Hi {state['name']}!\"\n",
    "    return state\n",
    "\n",
    "def node_2(state:AgentState)->AgentState:\n",
    "    \"\"\"This is the node which calculates the age of the person.\"\"\"\n",
    "    dt_1 = datetime.strptime(state['birthdate'],\"%Y-%m-%d\")\n",
    "    date_str = \"2022-05-20\"\n",
    "    dt_2 = datetime.now() + timedelta(hours=5, minutes=30)\n",
    "    diff = relativedelta(dt_2, dt_1)\n",
    "    state['result'] = f\"{state['result']}! You are {diff.years} years old.\"\n",
    "    return state\n",
    "\n",
    "graph = StateGraph(state_schema=AgentState)\n",
    "\n",
    "graph.add_node(node='greeting', action=node_1)\n",
    "graph.add_node(node='age', action=node_2)\n",
    "graph.add_edge('greeting','age')\n",
    "graph.set_entry_point('greeting')\n",
    "graph.set_finish_point('age')\n",
    "\n",
    "app = graph.compile()"
   ]
  },
  {
   "cell_type": "code",
   "execution_count": 35,
   "id": "8a20d20d",
   "metadata": {},
   "outputs": [
    {
     "data": {
      "image/png": "[encoded data removed]",
      "text/plain": [
       "<IPython.core.display.Image object>"
      ]
     },
     "metadata": {},
     "output_type": "display_data"
    }
   ],
   "source": [
    "display(Image(app.get_graph().draw_mermaid_png()))"
   ]
  },
  {
   "cell_type": "code",
   "execution_count": 36,
   "id": "32a1676c",
   "metadata": {},
   "outputs": [
    {
     "data": {
      "text/plain": [
       "{'name': 'James',\n",
       " 'birthdate': '1999-06-01',\n",
       " 'result': 'Hi James!! You are 26 years old.'}"
      ]
     },
     "execution_count": 36,
     "metadata": {},
     "output_type": "execute_result"
    }
   ],
   "source": [
    "app.invoke({'name':'James', 'birthdate':'1999-06-01'})"
   ]
  },
  {
   "cell_type": "markdown",
   "id": "c18b93cb",
   "metadata": {},
   "source": [
    "#### Graph 3 Exercise"
   ]
  },
  {
   "cell_type": "code",
   "execution_count": 41,
   "id": "7fc961ee",
   "metadata": {},
   "outputs": [],
   "source": [
    "from typing import TypedDict, List\n",
    "from langgraph.graph import StateGraph\n",
    "from IPython.display import Image, display\n",
    "\n",
    "class AgentState(TypedDict):\n",
    "    name:str\n",
    "    age:int\n",
    "    skills:List[str]\n",
    "    result:str\n",
    "\n",
    "def node_1(state:AgentState)->AgentState:\n",
    "    \"\"\"Greeting Node\"\"\"\n",
    "    state['result'] = f\"Hi! {state['name']}.\"\n",
    "    return state\n",
    "\n",
    "def node_2(state:AgentState)->AgentState:\n",
    "    \"\"\"Describe user age\"\"\"\n",
    "    state['result'] = f\"{state['result']} You are {state['age']} years old!\"\n",
    "    return state\n",
    "\n",
    "def node_3(state:AgentState)->AgentState:\n",
    "    \"\"\"List skills node\"\"\"\n",
    "    skills  = \"\"\n",
    "    num_skills = len(state['skills'])\n",
    "    for i in range(num_skills):\n",
    "        if i==0:\n",
    "            skills = f\"{state['skills'][0]}\"\n",
    "        elif i<(num_skills-1):\n",
    "            skills = f\"{skills}, {state['skills'][i]}\"\n",
    "        else:\n",
    "            skills = f\"{skills} and {state['skills'][i]}\"\n",
    "    state['result'] = f\"{state['result']} You have skills in : {skills}.\"\n",
    "    return state"
   ]
  },
  {
   "cell_type": "code",
   "execution_count": 40,
   "id": "f8844b61",
   "metadata": {},
   "outputs": [],
   "source": [
    "graph = StateGraph(state_schema=AgentState)\n",
    "\n",
    "graph.add_node(node='greeting', action=node_1)\n",
    "graph.add_node(node='age', action=node_2)\n",
    "graph.add_node(node='skills', action=node_3)\n",
    "graph.add_edge('greeting','age')\n",
    "graph.add_edge('age','skills')\n",
    "graph.set_entry_point('greeting')\n",
    "graph.set_finish_point('skills')\n",
    "\n",
    "app = graph.compile()"
   ]
  },
  {
   "cell_type": "code",
   "execution_count": 42,
   "id": "1f8e8381",
   "metadata": {},
   "outputs": [
    {
     "data": {
      "image/png": "[encoded data removed]",
      "text/plain": [
       "<IPython.core.display.Image object>"
      ]
     },
     "metadata": {},
     "output_type": "display_data"
    }
   ],
   "source": [
    "display(Image(app.get_graph().draw_mermaid_png()))"
   ]
  },
  {
   "cell_type": "code",
   "execution_count": 43,
   "id": "cc7895e6",
   "metadata": {},
   "outputs": [
    {
     "data": {
      "text/plain": [
       "{'name': 'Jhon',\n",
       " 'age': 26,\n",
       " 'skills': ['python', 'ML', 'LLM', 'AWS'],\n",
       " 'result': 'Hi! Jhon. You are 26 years old! You have skills in : python, ML, LLM and AWS.'}"
      ]
     },
     "execution_count": 43,
     "metadata": {},
     "output_type": "execute_result"
    }
   ],
   "source": [
    "app.invoke({'name':'Jhon', 'age':26, 'skills':['python','ML', 'LLM', 'AWS']})"
   ]
  },
  {
   "cell_type": "markdown",
   "id": "2471a465",
   "metadata": {},
   "source": [
    "### Agent Four       \n",
    "* Conditional edges"
   ]
  },
  {
   "cell_type": "code",
   "execution_count": 44,
   "id": "2b4e9053",
   "metadata": {},
   "outputs": [],
   "source": [
    "from typing import TypedDict\n",
    "from langgraph.graph import StateGraph, START, END"
   ]
  },
  {
   "cell_type": "code",
   "execution_count": null,
   "id": "660772e0",
   "metadata": {},
   "outputs": [],
   "source": [
    "class AgentState(TypedDict):\n",
    "    num_one:float\n",
    "    num_two:float\n",
    "    operation:str\n",
    "    result:float\n",
    "\n",
    "def add_node(state:AgentState)->AgentState:\n",
    "    \"\"\"This node is used for addition.\"\"\"\n",
    "    state['result'] = state['num_one'] + state['num_two']\n",
    "    return state\n",
    "\n",
    "def subs_node(state:AgentState)->AgentState:\n",
    "    \"\"\"This node is used for substraction.\"\"\"\n",
    "    state['result'] = state['num_one'] - state['num_two']\n",
    "    return state\n",
    "\n",
    "def decide_node(state:AgentState)->AgentState:\n",
    "    \"\"\"This node is used to decide the next node.\"\"\"\n",
    "    if state['operation'] == '+':\n",
    "        return 'addition_opt'\n",
    "    else:\n",
    "        return 'substraction_opt'\n",
    "    \n",
    "graph = StateGraph(state_schema=AgentState)\n",
    "graph.add_node(node='addition', action=add_node)\n",
    "graph.add_node(node='substraction', action=subs_node)\n",
    "graph.add_node(node='decider', action=lambda state:state) #pass through\n",
    "graph.add_edge(START, 'decider')\n",
    "graph.add_conditional_edges(source='decider', \n",
    "                            path=decide_node,\n",
    "                            path_map={\n",
    "                                #operation : node\n",
    "                                'addition_opt':'addition',\n",
    "                                'substraction_opt':'substraction'})\n",
    "graph.add_edge('addition',END)\n",
    "graph.add_edge('substraction',END)\n",
    "\n",
    "app = graph.compile()"
   ]
  },
  {
   "cell_type": "code",
   "execution_count": 72,
   "id": "5318d278",
   "metadata": {},
   "outputs": [
    {
     "data": {
      "image/png": "[encoded data removed]",
      "text/plain": [
       "<IPython.core.display.Image object>"
      ]
     },
     "metadata": {},
     "output_type": "display_data"
    }
   ],
   "source": [
    "display(Image(app.get_graph().draw_mermaid_png()))"
   ]
  },
  {
   "cell_type": "code",
   "execution_count": null,
   "id": "09a62204",
   "metadata": {},
   "outputs": [
    {
     "data": {
      "text/plain": [
       "{'num_one': 10, 'num_two': 11, 'operation': '+', 'result': 21}"
      ]
     },
     "execution_count": 73,
     "metadata": {},
     "output_type": "execute_result"
    }
   ],
   "source": [
    "app.invoke({'num_one':10, 'num_two':11, 'operation':'+'})"
   ]
  },
  {
   "cell_type": "markdown",
   "id": "512cb64d",
   "metadata": {},
   "source": [
    "#### Agent Five \n",
    "* Without pass through"
   ]
  },
  {
   "cell_type": "code",
   "execution_count": 119,
   "id": "5c675272",
   "metadata": {},
   "outputs": [],
   "source": [
    "class AgentState(TypedDict):\n",
    "    num_one:float\n",
    "    num_two:float\n",
    "    operation:str\n",
    "    result:float\n",
    "\n",
    "\n",
    "def add_node(state:AgentState)->AgentState:\n",
    "    \"\"\"This node is used for addition.\"\"\"\n",
    "    state['result'] = state['num_one'] + state['num_two']\n",
    "    return state\n",
    "\n",
    "def subs_node(state:AgentState)->AgentState:\n",
    "    \"\"\"This node is used for substraction.\"\"\"\n",
    "    state['result'] = state['num_one'] - state['num_two']\n",
    "    return state\n",
    "\n",
    "def decide_node(state:AgentState)->AgentState:\n",
    "    \"\"\"This node is used to decide the next node.\"\"\"\n",
    "    if state['operation'] == '+':\n",
    "        return 'add'\n",
    "    else:\n",
    "        return 'subs'\n",
    "    \n",
    "graph = StateGraph(state_schema=AgentState)\n",
    "graph.add_node(node='addition', action=add_node)\n",
    "graph.add_node(node='substraction', action=subs_node)\n",
    "graph.add_conditional_edges(source=START, \n",
    "                            path=decide_node,\n",
    "                            path_map={\n",
    "                                #operation : node\n",
    "                                'add':'addition',\n",
    "                                'subs':'substraction'}\n",
    "                                )\n",
    "graph.add_edge('addition',END)\n",
    "graph.add_edge('substraction',END)\n",
    "\n",
    "app = graph.compile()"
   ]
  },
  {
   "cell_type": "code",
   "execution_count": 120,
   "id": "0430d458",
   "metadata": {},
   "outputs": [
    {
     "data": {
      "image/png": "[encoded data removed]",
      "text/plain": [
       "<IPython.core.display.Image object>"
      ]
     },
     "metadata": {},
     "output_type": "display_data"
    }
   ],
   "source": [
    "display(Image(app.get_graph().draw_mermaid_png()))"
   ]
  },
  {
   "cell_type": "code",
   "execution_count": 121,
   "id": "98d7901d",
   "metadata": {},
   "outputs": [
    {
     "data": {
      "text/plain": [
       "{'num_one': 10, 'num_two': 11, 'operation': '+', 'result': 21}"
      ]
     },
     "execution_count": 121,
     "metadata": {},
     "output_type": "execute_result"
    }
   ],
   "source": [
    "app.invoke({'num_one':10, 'num_two':11, 'operation':'+'})"
   ]
  },
  {
   "cell_type": "markdown",
   "id": "ed8ad6e1",
   "metadata": {},
   "source": [
    "#### Agent Four Exercise"
   ]
  },
  {
   "cell_type": "code",
   "execution_count": 51,
   "id": "c4635391",
   "metadata": {},
   "outputs": [],
   "source": [
    "from typing import TypedDict\n",
    "from langgraph.graph import StateGraph, START, END\n",
    "from IPython.display import Image, display"
   ]
  },
  {
   "cell_type": "code",
   "execution_count": 74,
   "id": "8e11b8e7",
   "metadata": {},
   "outputs": [],
   "source": [
    "class AgentState(TypedDict):\n",
    "    number1:float\n",
    "    number2:float\n",
    "    number3:float\n",
    "    number4:float\n",
    "    operation1:str\n",
    "    operation2:str\n",
    "    finalNumber1:float\n",
    "    finalNumber2:float\n",
    "\n",
    "def add_node_one(state:AgentState)->AgentState:\n",
    "    \"\"\"This node is used for addition.\"\"\"\n",
    "    state['finalNumber1'] = state['number1'] + state['number2']\n",
    "    return state\n",
    "\n",
    "def subs_node_one(state:AgentState)->AgentState:\n",
    "    \"\"\"This node is used for substraction.\"\"\"\n",
    "    state['finalNumber1'] = state['number1'] - state['number2']\n",
    "    return state\n",
    "\n",
    "def add_node_two(state:AgentState)->AgentState:\n",
    "    \"\"\"This node is used for addition.\"\"\"\n",
    "    state['finalNumber2'] = state['number3'] + state['number4']\n",
    "    return state\n",
    "\n",
    "def subs_node_two(state:AgentState)->AgentState:\n",
    "    \"\"\"This node is used for substraction.\"\"\"\n",
    "    state['finalNumber2'] = state['number3'] - state['number4']\n",
    "    return state\n",
    "\n",
    "def decide_node_one(state:AgentState):\n",
    "    \"\"\"This node is used to decide the next node.\"\"\"\n",
    "    if state['operation1'] == '+':\n",
    "        return 'add_opt'\n",
    "    else:\n",
    "        return 'subs_opt'\n",
    "    \n",
    "def decide_node_two(state:AgentState):\n",
    "    \"\"\"This node is used to decide the next node.\"\"\"\n",
    "    if state['operation2'] == '+':\n",
    "        return 'add_opt'\n",
    "    else:\n",
    "        return 'subs_opt'\n",
    "    \n",
    "graph = StateGraph(state_schema=AgentState)\n",
    "\n",
    "graph.add_node(node='initial_add', action=add_node_one)\n",
    "graph.add_node(node='initial_sub', action=subs_node_one)\n",
    "graph.add_node(node='add', action=add_node_two)\n",
    "graph.add_node(node='sub', action=subs_node_two)\n",
    "graph.add_node(node='router1', action=lambda state : state)\n",
    "graph.add_node(node='router2', action=lambda state : state)\n",
    "\n",
    "graph.add_edge(START, 'router1')\n",
    "\n",
    "graph.add_conditional_edges(source='router1',\n",
    "                            path=decide_node_one,\n",
    "                            path_map={\n",
    "                                'add_opt':'initial_add',\n",
    "                                'subs_opt':'initial_sub'\n",
    "                            })\n",
    "\n",
    "graph.add_edge('initial_add','router2')\n",
    "graph.add_edge('initial_sub','router2')\n",
    "\n",
    "graph.add_conditional_edges(source='router2',\n",
    "                            path=decide_node_two,\n",
    "                            path_map={\n",
    "                                'add_opt':'add',\n",
    "                                'subs_opt':'sub'\n",
    "                            })\n",
    "\n",
    "graph.add_edge('add',END)\n",
    "graph.add_edge('sub',END)\n",
    "\n",
    "app = graph.compile()"
   ]
  },
  {
   "cell_type": "code",
   "execution_count": 75,
   "id": "825fca5b",
   "metadata": {},
   "outputs": [
    {
     "data": {
      "image/png": "[encoded data removed]",
      "text/plain": [
       "<IPython.core.display.Image object>"
      ]
     },
     "metadata": {},
     "output_type": "display_data"
    }
   ],
   "source": [
    "display(Image(app.get_graph().draw_mermaid_png()))"
   ]
  },
  {
   "cell_type": "code",
   "execution_count": 76,
   "id": "5ddb5150",
   "metadata": {},
   "outputs": [
    {
     "data": {
      "text/plain": [
       "{'number1': 10,\n",
       " 'number2': 14,\n",
       " 'number3': 11,\n",
       " 'number4': 14,\n",
       " 'operation1': '+',\n",
       " 'operation2': '-',\n",
       " 'finalNumber1': 24,\n",
       " 'finalNumber2': -3}"
      ]
     },
     "execution_count": 76,
     "metadata": {},
     "output_type": "execute_result"
    }
   ],
   "source": [
    "app.invoke({'number1':10, 'number2':14, 'number3':11, 'number4':14, 'operation1':'+', 'operation2':'-', 'finalNumber1':0, 'finalNumber2':0})"
   ]
  },
  {
   "cell_type": "markdown",
   "id": "db226f76",
   "metadata": {},
   "source": [
    "### Agent Five  \n",
    "* Looping"
   ]
  },
  {
   "cell_type": "code",
   "execution_count": 79,
   "id": "b89cf97b",
   "metadata": {},
   "outputs": [],
   "source": [
    "from typing import TypedDict\n",
    "from langgraph.graph import StateGraph, START, END\n",
    "import random"
   ]
  },
  {
   "cell_type": "code",
   "execution_count": 87,
   "id": "d312e13f",
   "metadata": {},
   "outputs": [
    {
     "data": {
      "text/plain": [
       "3"
      ]
     },
     "execution_count": 87,
     "metadata": {},
     "output_type": "execute_result"
    }
   ],
   "source": [
    "random.randint(1,10)"
   ]
  },
  {
   "cell_type": "code",
   "execution_count": 106,
   "id": "ebdc1bf6",
   "metadata": {},
   "outputs": [],
   "source": [
    "class AgentState(TypedDict):\n",
    "    name : str\n",
    "    random_num : int\n",
    "    itteration : int\n",
    "    result : str\n",
    "\n",
    "def greeting_node(state:AgentState)->AgentState:\n",
    "    state['result'] = f\"Hi {state['name']}!.\"\n",
    "    state['itteration'] = 1\n",
    "    return state\n",
    "\n",
    "def random_num_node(state:AgentState)->AgentState:\n",
    "    state['random_num'] = random.randint(1,10)\n",
    "    #print(state)\n",
    "    return state\n",
    "\n",
    "def loop_node(state:AgentState)->AgentState:\n",
    "    state['result'] = f\"{state['result']}\\nItteration:{state['itteration']}\"\n",
    "    state['itteration'] += 1\n",
    "    return state\n",
    "\n",
    "def loop_decider(state:AgentState):\n",
    "    if state['itteration']<=state['random_num']:\n",
    "        return 'loop'\n",
    "    else:\n",
    "        return 'end'\n",
    "\n",
    "graph = StateGraph(state_schema=AgentState)\n",
    "\n",
    "graph.add_node(node='greeting node', action=greeting_node)\n",
    "graph.add_node(node='random num node', action=random_num_node)\n",
    "graph.add_node(node='loop node', action=loop_node)\n",
    "#graph.add_node(node='looper', action=lambda state:state)\n",
    "\n",
    "graph.add_edge(START, 'greeting node')\n",
    "graph.add_edge('greeting node', 'random num node')\n",
    "graph.add_edge('random num node', 'loop node')\n",
    "#graph.add_edge('loop node','looper')\n",
    "\n",
    "graph.add_conditional_edges(source='loop node',\n",
    "                            path=loop_decider,\n",
    "                            path_map={\n",
    "                                'loop':'loop node',\n",
    "                                'end' : END\n",
    "                            })\n",
    "\n",
    "app = graph.compile()"
   ]
  },
  {
   "cell_type": "code",
   "execution_count": 107,
   "id": "4329e22d",
   "metadata": {},
   "outputs": [
    {
     "data": {
      "image/png": "[encoded data removed]",
      "text/plain": [
       "<IPython.core.display.Image object>"
      ]
     },
     "metadata": {},
     "output_type": "display_data"
    }
   ],
   "source": [
    "display(Image(app.get_graph().draw_mermaid_png()))"
   ]
  },
  {
   "cell_type": "code",
   "execution_count": 105,
   "id": "5cef6f41",
   "metadata": {},
   "outputs": [
    {
     "data": {
      "text/plain": [
       "{'name': 'Jhon',\n",
       " 'random_num': 9,\n",
       " 'itteration': 10,\n",
       " 'result': 'Hi Jhon!.\\nItteration:1\\nItteration:2\\nItteration:3\\nItteration:4\\nItteration:5\\nItteration:6\\nItteration:7\\nItteration:8\\nItteration:9'}"
      ]
     },
     "execution_count": 105,
     "metadata": {},
     "output_type": "execute_result"
    }
   ],
   "source": [
    "app.invoke({'name':'Jhon'})"
   ]
  },
  {
   "cell_type": "markdown",
   "id": "9b2f2e5d",
   "metadata": {},
   "source": [
    "#### Agent Five Exercise"
   ]
  },
  {
   "cell_type": "code",
   "execution_count": null,
   "id": "18ad2b6b",
   "metadata": {},
   "outputs": [],
   "source": [
    "from typing import TypedDict, List\n",
    "from langgraph.graph import StateGraph, START, END\n",
    "import random"
   ]
  },
  {
   "cell_type": "code",
   "execution_count": 145,
   "id": "90625ae6",
   "metadata": {},
   "outputs": [],
   "source": [
    "class AgentState(TypedDict):\n",
    "    player_name : str\n",
    "    number : int\n",
    "    guesses : List[int]\n",
    "    attempts : int\n",
    "    lower_bound : int\n",
    "    upper_bound : int\n",
    "    hint : str\n",
    "\n",
    "def setup_node(state:AgentState)->AgentState:\n",
    "    state['attempts'] = 0\n",
    "    state['hint'] = 'init'\n",
    "    state['guesses'] = []\n",
    "    return state\n",
    "\n",
    "def guess_node(state:AgentState)->AgentState:\n",
    "    #set lower bound and upper bound\n",
    "    if state['hint']=='lower':\n",
    "        state['upper_bound'] = state['guesses'][-1]\n",
    "    elif state['hint']=='higher':\n",
    "        state['lower_bound'] = state['guesses'][-1]\n",
    "    else:\n",
    "        state['lower_bound'] = 1\n",
    "        state['upper_bound'] = 20\n",
    "    #guess\n",
    "    guess = random.randint(state['lower_bound'], state['upper_bound'])\n",
    "    state['guesses'].append(guess)\n",
    "    #attept count\n",
    "    state['attempts'] += 1\n",
    "    #\n",
    "    return state\n",
    "\n",
    "def compare_node(state:AgentState)->AgentState:\n",
    "    #comapre\n",
    "    if state['guesses'][-1] < state['number']:\n",
    "        state['hint'] = 'higher'\n",
    "    elif state['guesses'][-1] > state['number']:\n",
    "        state['hint'] = 'lower'\n",
    "    else:\n",
    "        state['hint'] = 'equal'\n",
    "    #print(f\"state:{state}\")\n",
    "    return state\n",
    "\n",
    "def decider(state:AgentState):\n",
    "    if state['hint'] == 'equal' or state['attempts']>=7:\n",
    "        return 'exit'\n",
    "    else:\n",
    "        return 'continue'\n",
    "    \n",
    "graph = StateGraph(state_schema=AgentState)\n",
    "\n",
    "#nodes\n",
    "graph.add_node(node='setup', action=setup_node)\n",
    "graph.add_node(node='guess', action=guess_node)\n",
    "graph.add_node(node='compare', action=compare_node)\n",
    "\n",
    "#edges\n",
    "graph.add_edge(START, 'setup')\n",
    "graph.add_edge('setup','guess')\n",
    "graph.add_edge('guess', 'compare')\n",
    "\n",
    "#conditional edges\n",
    "graph.add_conditional_edges(source='compare',\n",
    "                            path=decider,\n",
    "                            path_map={\n",
    "                                'continue':'guess',\n",
    "                                'exit':END\n",
    "                            })\n",
    "\n",
    "#compile\n",
    "app = graph.compile()"
   ]
  },
  {
   "cell_type": "code",
   "execution_count": 146,
   "id": "6e75b5fd",
   "metadata": {},
   "outputs": [
    {
     "data": {
      "image/png": "[encoded data removed]",
      "text/plain": [
       "<IPython.core.display.Image object>"
      ]
     },
     "metadata": {},
     "output_type": "display_data"
    }
   ],
   "source": [
    "display(Image(app.get_graph().draw_mermaid_png()))"
   ]
  },
  {
   "cell_type": "code",
   "execution_count": 147,
   "id": "666c9c2e",
   "metadata": {},
   "outputs": [
    {
     "data": {
      "text/plain": [
       "{'player_name': 'James',\n",
       " 'number': 10,\n",
       " 'guesses': [10],\n",
       " 'attempts': 1,\n",
       " 'lower_bound': 1,\n",
       " 'upper_bound': 20,\n",
       " 'hint': 'equal'}"
      ]
     },
     "execution_count": 147,
     "metadata": {},
     "output_type": "execute_result"
    }
   ],
   "source": [
    "app.invoke({'player_name':'James', 'number':10})"
   ]
  },
  {
   "cell_type": "code",
   "execution_count": null,
   "id": "039fa036",
   "metadata": {},
   "outputs": [],
   "source": []
  }
 ],
 "metadata": {
  "kernelspec": {
   "display_name": "venv",
   "language": "python",
   "name": "python3"
  },
  "language_info": {
   "codemirror_mode": {
    "name": "ipython",
    "version": 3
   },
   "file_extension": ".py",
   "mimetype": "text/x-python",
   "name": "python",
   "nbconvert_exporter": "python",
   "pygments_lexer": "ipython3",
   "version": "3.11.3"
  }
 },
 "nbformat": 4,
 "nbformat_minor": 5
}
