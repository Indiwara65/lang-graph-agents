{
 "cells": [
  {
   "cell_type": "markdown",
   "id": "3b36d772",
   "metadata": {},
   "source": [
    "#### Hello World Graph"
   ]
  },
  {
   "cell_type": "markdown",
   "id": "be4ebd9f",
   "metadata": {},
   "source": [
    "##### Graph One"
   ]
  },
  {
   "cell_type": "code",
   "execution_count": 2,
   "id": "7e0bf936",
   "metadata": {},
   "outputs": [],
   "source": [
    "from typing import Dict, TypedDict\n",
    "from langgraph.graph import StateGraph"
   ]
  },
  {
   "cell_type": "code",
   "execution_count": 3,
   "id": "4c892956",
   "metadata": {},
   "outputs": [],
   "source": [
    "#State\n",
    "class AgentState(TypedDict):\n",
    "    message : str\n",
    "\n",
    "#Node\n",
    "def greeting_node(state:AgentState)->AgentState:\n",
    "    #dock string - tells the LLM what this node is doing\n",
    "    \"\"\"Simple node that adds a greeting message to the state\"\"\"\n",
    "    state['message'] = f\"Hey {state['message']}, how are you doing!\" \n",
    "    return state"
   ]
  },
  {
   "cell_type": "code",
   "execution_count": 6,
   "id": "e62954a5",
   "metadata": {},
   "outputs": [],
   "source": [
    "#Define Graph\n",
    "graph = StateGraph(state_schema=AgentState)\n",
    "#add node\n",
    "graph.add_node(\"greeter\", action=greeting_node)\n",
    "#start pioint\n",
    "graph.set_entry_point(\"greeter\")\n",
    "#end point\n",
    "graph.set_finish_point(\"greeter\")\n",
    "\n",
    "app = graph.compile()"
   ]
  },
  {
   "cell_type": "code",
   "execution_count": 7,
   "id": "2f3d3f25",
   "metadata": {},
   "outputs": [
    {
     "data": {
      "text/plain": [
       "(langgraph.graph.state.CompiledStateGraph, langgraph.graph.state.StateGraph)"
      ]
     },
     "execution_count": 7,
     "metadata": {},
     "output_type": "execute_result"
    }
   ],
   "source": [
    "type(app), type(graph)"
   ]
  },
  {
   "cell_type": "code",
   "execution_count": 8,
   "id": "4cb402f3",
   "metadata": {},
   "outputs": [
    {
     "data": {
      "text/plain": [
       "{'message': 'Hey Bob, how are you doing!'}"
      ]
     },
     "execution_count": 8,
     "metadata": {},
     "output_type": "execute_result"
    }
   ],
   "source": [
    "app.invoke({'message':'Bob'})"
   ]
  },
  {
   "cell_type": "markdown",
   "id": "ea951ebb",
   "metadata": {},
   "source": [
    "#### Graph One Exercise"
   ]
  },
  {
   "cell_type": "code",
   "execution_count": 10,
   "id": "3ceeb81c",
   "metadata": {},
   "outputs": [],
   "source": [
    "class AgentState(TypedDict):\n",
    "    name : str\n",
    "\n",
    "def node_one(state:AgentState)->AgentState:\n",
    "    \"\"\"This is node one\"\"\"\n",
    "    name = f\"{state['name']}, you're doing an amazing job learning LangGraph!\"\n",
    "    return AgentState(name=name)"
   ]
  },
  {
   "cell_type": "code",
   "execution_count": 11,
   "id": "a3f49044",
   "metadata": {},
   "outputs": [],
   "source": [
    "graph = StateGraph(state_schema=AgentState)\n",
    "graph.add_node(node='node one', action=node_one)\n",
    "graph.set_entry_point('node one')\n",
    "graph.set_finish_point('node one')\n",
    "\n",
    "app = graph.compile()"
   ]
  },
  {
   "cell_type": "code",
   "execution_count": 12,
   "id": "27b5f382",
   "metadata": {},
   "outputs": [
    {
     "data": {
      "text/plain": [
       "{'name': \"Bob, you're doing an amazing job learning LangGraph!\"}"
      ]
     },
     "execution_count": 12,
     "metadata": {},
     "output_type": "execute_result"
    }
   ],
   "source": [
    "app.invoke({'name':'Bob'})"
   ]
  },
  {
   "cell_type": "code",
   "execution_count": null,
   "id": "df1fdc99",
   "metadata": {},
   "outputs": [],
   "source": []
  }
 ],
 "metadata": {
  "kernelspec": {
   "display_name": "venv",
   "language": "python",
   "name": "python3"
  },
  "language_info": {
   "codemirror_mode": {
    "name": "ipython",
    "version": 3
   },
   "file_extension": ".py",
   "mimetype": "text/x-python",
   "name": "python",
   "nbconvert_exporter": "python",
   "pygments_lexer": "ipython3",
   "version": "3.11.3"
  }
 },
 "nbformat": 4,
 "nbformat_minor": 5
}
