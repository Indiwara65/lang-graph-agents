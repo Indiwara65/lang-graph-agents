{
 "cells": [
  {
   "cell_type": "markdown",
   "id": "cab66b34",
   "metadata": {},
   "source": [
    "## AI Agent One"
   ]
  },
  {
   "cell_type": "code",
   "execution_count": 83,
   "id": "67d0d630",
   "metadata": {},
   "outputs": [],
   "source": [
    "from langchain_openai import ChatOpenAI\n",
    "from langchain_core.tools import tool\n",
    "from langchain_core.messages import BaseMessage, HumanMessage, AIMessage, SystemMessage\n",
    "#from langchain_core.tracers import ConsoleCallbackHandler\n",
    "\n",
    "from langgraph.graph import StateGraph, START, END\n",
    "from langgraph.prebuilt import ToolNode\n",
    "from langgraph.graph.message import add_messages\n",
    "\n",
    "from typing import TypedDict, Annotated, Sequence\n",
    "from dotenv import load_dotenv\n",
    "import os\n",
    "\n",
    "from IPython.display import Image, display\n",
    "\n",
    "load_dotenv()\n",
    "openai_api_key = os.getenv('OPENAI_API_KEY')"
   ]
  },
  {
   "cell_type": "markdown",
   "id": "38f75686",
   "metadata": {},
   "source": [
    "### Tools"
   ]
  },
  {
   "cell_type": "code",
   "execution_count": 66,
   "id": "73f06472",
   "metadata": {},
   "outputs": [],
   "source": [
    "@tool\n",
    "def add(a:float, b:float)->float:\n",
    "    \"\"\"This is an addition function that can add two numbers togeather\"\"\"\n",
    "    return a+b\n",
    "\n",
    "@tool\n",
    "def subt(a:float, b:float)->float:\n",
    "    \"\"\"This is an subtraction function that can subtract two numbers togeather\"\"\"\n",
    "    return a-b\n",
    "\n",
    "@tool\n",
    "def mult(a:float, b:float)->float:\n",
    "    \"\"\"This is an multiplication function that can multiply two numbers togeather\"\"\"\n",
    "    return a*b\n",
    "\n",
    "@tool\n",
    "def divide(a:float, b:float)->float:\n",
    "    \"\"\"This is an division function that can divide two numbers togeather\"\"\"\n",
    "    return a/b\n",
    "\n",
    "tools = [add, subt, mult, divide]"
   ]
  },
  {
   "cell_type": "markdown",
   "id": "915b19ec",
   "metadata": {},
   "source": [
    "### LLM"
   ]
  },
  {
   "cell_type": "code",
   "execution_count": 67,
   "id": "5c7b3e5e",
   "metadata": {},
   "outputs": [],
   "source": [
    "#handler = ConsoleCallbackHandler()\n",
    "\n",
    "llm = ChatOpenAI(\n",
    "    model=\"o3-mini-2025-01-31\",\n",
    "    api_key=openai_api_key,\n",
    "    #callbacks=[handler]\n",
    ").bind_tools(tools)"
   ]
  },
  {
   "cell_type": "code",
   "execution_count": 68,
   "id": "9d0a9e43",
   "metadata": {},
   "outputs": [
    {
     "data": {
      "text/plain": [
       "AIMessage(content='', additional_kwargs={'tool_calls': [{'id': 'call_6nBymoTAU3Ge18QYG8xp0YH5', 'function': {'arguments': '{\"a\": 34.5, \"b\": 10}', 'name': 'divide'}, 'type': 'function'}], 'refusal': None}, response_metadata={'token_usage': {'completion_tokens': 100, 'prompt_tokens': 157, 'total_tokens': 257, 'completion_tokens_details': {'accepted_prediction_tokens': 0, 'audio_tokens': 0, 'reasoning_tokens': 64, 'rejected_prediction_tokens': 0}, 'prompt_tokens_details': {'audio_tokens': 0, 'cached_tokens': 0}}, 'model_name': 'o3-mini-2025-01-31', 'system_fingerprint': 'fp_e20469f047', 'id': 'chatcmpl-Bs66lUoGGWBOWARLaG9U16490ZwIF', 'service_tier': 'default', 'finish_reason': 'tool_calls', 'logprobs': None}, id='run--97bdd643-93e1-4d1b-ad28-7bb137dc35b8-0', tool_calls=[{'name': 'divide', 'args': {'a': 34.5, 'b': 10}, 'id': 'call_6nBymoTAU3Ge18QYG8xp0YH5', 'type': 'tool_call'}], usage_metadata={'input_tokens': 157, 'output_tokens': 100, 'total_tokens': 257, 'input_token_details': {'audio': 0, 'cache_read': 0}, 'output_token_details': {'audio': 0, 'reasoning': 64}})"
      ]
     },
     "execution_count": 68,
     "metadata": {},
     "output_type": "execute_result"
    }
   ],
   "source": [
    "response = llm.invoke('Can u divide 34.5 by 10')\n",
    "response"
   ]
  },
  {
   "cell_type": "code",
   "execution_count": 69,
   "id": "b1f0c55f",
   "metadata": {},
   "outputs": [
    {
     "name": "stdout",
     "output_type": "stream",
     "text": [
      "[{'name': 'divide', 'args': {'a': 34.5, 'b': 10}, 'id': 'call_6nBymoTAU3Ge18QYG8xp0YH5', 'type': 'tool_call'}] \n",
      "\n",
      " \n",
      "\n",
      "{'input_tokens': 157, 'output_tokens': 100, 'total_tokens': 257, 'input_token_details': {'audio': 0, 'cache_read': 0}, 'output_token_details': {'audio': 0, 'reasoning': 64}}\n"
     ]
    }
   ],
   "source": [
    "print(response.tool_calls,'\\n')\n",
    "print(response.content,'\\n')\n",
    "print(response.usage_metadata)"
   ]
  },
  {
   "cell_type": "markdown",
   "id": "aeedbd58",
   "metadata": {},
   "source": [
    "### State & Node Functions"
   ]
  },
  {
   "cell_type": "code",
   "execution_count": 84,
   "id": "45d42693",
   "metadata": {},
   "outputs": [],
   "source": [
    "class AgentState(TypedDict):\n",
    "    query : str\n",
    "    messages : Annotated[Sequence[BaseMessage], add_messages]\n",
    "\n",
    "def setup_node(state:AgentState)->AgentState:\n",
    "    state['messages'] = [ \n",
    "        SystemMessage(content=\"You are agent who helps people to do arithmatic operations with the help of tools provided.\"),\n",
    "        HumanMessage(content=state['query'])\n",
    "    ]\n",
    "    #print(f\"setup:{state}\")\n",
    "    return state\n",
    "\n",
    "def agent_node(state:AgentState)->AgentState:\n",
    "    response = llm.invoke(state['messages'])\n",
    "    state['messages'].append(response)\n",
    "    #print(f\"agent : {state}\")\n",
    "    #return {'messages' : response}\n",
    "    return response\n",
    "\n",
    "def decision_node(state:AgentState)->AgentState:\n",
    "    last_message = state['messages'][-1]\n",
    "    #\n",
    "    if last_message.tool_calls:\n",
    "        return 'tools call'\n",
    "    else:\n",
    "        return 'exit'"
   ]
  },
  {
   "cell_type": "markdown",
   "id": "6e038827",
   "metadata": {},
   "source": [
    "### Graph"
   ]
  },
  {
   "cell_type": "code",
   "execution_count": 85,
   "id": "fbedce5e",
   "metadata": {},
   "outputs": [],
   "source": [
    "#graph init\n",
    "graph = StateGraph(state_schema=AgentState)\n",
    "\n",
    "#nodes\n",
    "tools_node = ToolNode(tools)\n",
    "graph.add_node(node='setup', action=setup_node)\n",
    "graph.add_node(node='agent', action=agent_node)\n",
    "graph.add_node(node='tools', action=tools_node)\n",
    "\n",
    "#edges\n",
    "graph.add_edge(START, 'setup')\n",
    "graph.add_edge('setup', 'agent')\n",
    "graph.add_edge('tools', 'agent')\n",
    "\n",
    "#condiotional agents\n",
    "graph.add_conditional_edges(source='agent',\n",
    "                            path=decision_node,\n",
    "                            path_map={\n",
    "                                'tools call':'tools',\n",
    "                                'exit':END\n",
    "                            })\n",
    "\n",
    "#\n",
    "app = graph.compile()"
   ]
  },
  {
   "cell_type": "code",
   "execution_count": 86,
   "id": "7f70b059",
   "metadata": {},
   "outputs": [
    {
     "data": {
      "image/png": "[encoded data removed]",
      "text/plain": [
       "<IPython.core.display.Image object>"
      ]
     },
     "metadata": {},
     "output_type": "display_data"
    }
   ],
   "source": [
    "display(Image(app.get_graph().draw_mermaid_png()))"
   ]
  },
  {
   "cell_type": "code",
   "execution_count": 87,
   "id": "7b006ced",
   "metadata": {},
   "outputs": [
    {
     "data": {
      "text/plain": [
       "{'query': 'Can u add 12 to 50 and then divide it by 20',\n",
       " 'messages': [SystemMessage(content='You are agent who helps people to do arithmatic operations with the help of tools provided.', additional_kwargs={}, response_metadata={}, id='08812bf2-1bed-430a-a1cc-07f937456acc'),\n",
       "  HumanMessage(content='Can u add 12 to 50 and then divide it by 20', additional_kwargs={}, response_metadata={}, id='75884b1a-ee3e-4140-912f-fbc3d9e227d6'),\n",
       "  AIMessage(content='', additional_kwargs={'tool_calls': [{'id': 'call_pSbyy1nMTwyhdohEy4f6gOCH', 'function': {'arguments': '{\"a\": 12, \"b\": 50}', 'name': 'add'}, 'type': 'function'}], 'refusal': None}, response_metadata={'token_usage': {'completion_tokens': 418, 'prompt_tokens': 184, 'total_tokens': 602, 'completion_tokens_details': {'accepted_prediction_tokens': 0, 'audio_tokens': 0, 'reasoning_tokens': 384, 'rejected_prediction_tokens': 0}, 'prompt_tokens_details': {'audio_tokens': 0, 'cached_tokens': 0}}, 'model_name': 'o3-mini-2025-01-31', 'system_fingerprint': 'fp_e20469f047', 'id': 'chatcmpl-Bs6IaAw27DSDr7jaQd4ZVP6FD7qBl', 'service_tier': 'default', 'finish_reason': 'tool_calls', 'logprobs': None}, id='run--55519676-3d7d-4838-be9d-1a3cf68e48ae-0', tool_calls=[{'name': 'add', 'args': {'a': 12, 'b': 50}, 'id': 'call_pSbyy1nMTwyhdohEy4f6gOCH', 'type': 'tool_call'}], usage_metadata={'input_tokens': 184, 'output_tokens': 418, 'total_tokens': 602, 'input_token_details': {'audio': 0, 'cache_read': 0}, 'output_token_details': {'audio': 0, 'reasoning': 384}}),\n",
       "  ToolMessage(content='62.0', name='add', id='b68f558e-6a9d-49b9-a4bc-e50b9e6785fd', tool_call_id='call_pSbyy1nMTwyhdohEy4f6gOCH'),\n",
       "  AIMessage(content='', additional_kwargs={'tool_calls': [{'id': 'call_HfXTbEG9RQ1xU4toZy1RNLNk', 'function': {'arguments': '{\"a\": 62, \"b\": 20}', 'name': 'divide'}, 'type': 'function'}], 'refusal': None}, response_metadata={'token_usage': {'completion_tokens': 162, 'prompt_tokens': 211, 'total_tokens': 373, 'completion_tokens_details': {'accepted_prediction_tokens': 0, 'audio_tokens': 0, 'reasoning_tokens': 128, 'rejected_prediction_tokens': 0}, 'prompt_tokens_details': {'audio_tokens': 0, 'cached_tokens': 0}}, 'model_name': 'o3-mini-2025-01-31', 'system_fingerprint': 'fp_e20469f047', 'id': 'chatcmpl-Bs6IfhVc0yuZx4bfLMun5L2xwqa5u', 'service_tier': 'default', 'finish_reason': 'tool_calls', 'logprobs': None}, id='run--b49e403a-0d6a-41e7-9172-621403f3b39e-0', tool_calls=[{'name': 'divide', 'args': {'a': 62, 'b': 20}, 'id': 'call_HfXTbEG9RQ1xU4toZy1RNLNk', 'type': 'tool_call'}], usage_metadata={'input_tokens': 211, 'output_tokens': 162, 'total_tokens': 373, 'input_token_details': {'audio': 0, 'cache_read': 0}, 'output_token_details': {'audio': 0, 'reasoning': 128}}),\n",
       "  ToolMessage(content='3.1', name='divide', id='06e762fe-c968-4616-911f-8386656c4764', tool_call_id='call_HfXTbEG9RQ1xU4toZy1RNLNk'),\n",
       "  AIMessage(content='The answer is 3.1.', additional_kwargs={'refusal': None}, response_metadata={'token_usage': {'completion_tokens': 22, 'prompt_tokens': 238, 'total_tokens': 260, 'completion_tokens_details': {'accepted_prediction_tokens': 0, 'audio_tokens': 0, 'reasoning_tokens': 0, 'rejected_prediction_tokens': 0}, 'prompt_tokens_details': {'audio_tokens': 0, 'cached_tokens': 0}}, 'model_name': 'o3-mini-2025-01-31', 'system_fingerprint': 'fp_e20469f047', 'id': 'chatcmpl-Bs6Ii4w6aoRVfU4X24rQ0dM4Jj1N5', 'service_tier': 'default', 'finish_reason': 'stop', 'logprobs': None}, id='run--99aa602b-0f3e-4d11-9537-e5ae746ac65a-0', usage_metadata={'input_tokens': 238, 'output_tokens': 22, 'total_tokens': 260, 'input_token_details': {'audio': 0, 'cache_read': 0}, 'output_token_details': {'audio': 0, 'reasoning': 0}})]}"
      ]
     },
     "execution_count": 87,
     "metadata": {},
     "output_type": "execute_result"
    }
   ],
   "source": [
    "app.invoke({'query': \"Can u add 12 to 50 and then divide it by 20\"})"
   ]
  },
  {
   "cell_type": "code",
   "execution_count": 100,
   "id": "dcea642c",
   "metadata": {},
   "outputs": [],
   "source": [
    "response = app.stream({'query': \"Can u add 12 to 50 and then divide it by 20\"}, stream_mode='values') #stream intead of invoke generates a generator"
   ]
  },
  {
   "cell_type": "code",
   "execution_count": 102,
   "id": "f997b259",
   "metadata": {},
   "outputs": [
    {
     "name": "stdout",
     "output_type": "stream",
     "text": [
      "================================\u001b[1m Human Message \u001b[0m=================================\n",
      "\n",
      "Can u add 12 to 50 and then divide it by 20\n",
      "=================================\u001b[1m Tool Message \u001b[0m=================================\n",
      "Name: add\n",
      "\n",
      "62.0\n",
      "=================================\u001b[1m Tool Message \u001b[0m=================================\n",
      "Name: divide\n",
      "\n",
      "3.1\n"
     ]
    }
   ],
   "source": [
    "for res in response:\n",
    "    #print(res)\n",
    "    message = res['messages'][-1] if res['messages'] else ()\n",
    "    if isinstance(message, tuple):\n",
    "        print(message)\n",
    "    else:\n",
    "        message.pretty_print()\n"
   ]
  },
  {
   "cell_type": "code",
   "execution_count": null,
   "id": "c18e3bd8",
   "metadata": {},
   "outputs": [],
   "source": []
  }
 ],
 "metadata": {
  "kernelspec": {
   "display_name": "venv",
   "language": "python",
   "name": "python3"
  },
  "language_info": {
   "codemirror_mode": {
    "name": "ipython",
    "version": 3
   },
   "file_extension": ".py",
   "mimetype": "text/x-python",
   "name": "python",
   "nbconvert_exporter": "python",
   "pygments_lexer": "ipython3",
   "version": "3.11.3"
  }
 },
 "nbformat": 4,
 "nbformat_minor": 5
}
