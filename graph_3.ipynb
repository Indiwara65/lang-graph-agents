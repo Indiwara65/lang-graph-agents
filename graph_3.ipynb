{
 "cells": [
  {
   "cell_type": "markdown",
   "id": "657829dc",
   "metadata": {},
   "source": [
    "## Agent Two"
   ]
  },
  {
   "cell_type": "code",
   "execution_count": null,
   "id": "a6184b41",
   "metadata": {
    "vscode": {
     "languageId": "plaintext"
    }
   },
   "outputs": [],
   "source": []
  },
  {
   "cell_type": "code",
   "execution_count": null,
   "id": "b8bef5d7",
   "metadata": {
    "vscode": {
     "languageId": "plaintext"
    }
   },
   "outputs": [],
   "source": []
  }
 ],
 "metadata": {
  "language_info": {
   "name": "python"
  }
 },
 "nbformat": 4,
 "nbformat_minor": 5
}
